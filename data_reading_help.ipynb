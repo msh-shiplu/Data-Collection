{
 "cells": [
  {
   "cell_type": "code",
   "execution_count": 1,
   "metadata": {},
   "outputs": [],
   "source": [
    "import os\n",
    "import json\n",
    "import pandas as pd\n",
    "import numpy as np"
   ]
  },
  {
   "cell_type": "code",
   "execution_count": 2,
   "metadata": {},
   "outputs": [],
   "source": [
    "df = pd.read_csv('data/mperf_1000.csv.gz')"
   ]
  },
  {
   "cell_type": "code",
   "execution_count": 4,
   "metadata": {},
   "outputs": [
    {
     "data": {
      "text/html": [
       "<div>\n",
       "<style scoped>\n",
       "    .dataframe tbody tr th:only-of-type {\n",
       "        vertical-align: middle;\n",
       "    }\n",
       "\n",
       "    .dataframe tbody tr th {\n",
       "        vertical-align: top;\n",
       "    }\n",
       "\n",
       "    .dataframe thead th {\n",
       "        text-align: right;\n",
       "    }\n",
       "</style>\n",
       "<table border=\"1\" class=\"dataframe\">\n",
       "  <thead>\n",
       "    <tr style=\"text-align: right;\">\n",
       "      <th></th>\n",
       "      <th>timestamp</th>\n",
       "      <th>accel</th>\n",
       "      <th>gyro</th>\n",
       "    </tr>\n",
       "  </thead>\n",
       "  <tbody>\n",
       "    <tr>\n",
       "      <th>0</th>\n",
       "      <td>2017-11-21 11:58:20</td>\n",
       "      <td>[[-0.71630859375, 0.1280517578125, 0.213623046...</td>\n",
       "      <td>[[-218.597412109375, -79.345703125, 173.217773...</td>\n",
       "    </tr>\n",
       "    <tr>\n",
       "      <th>1</th>\n",
       "      <td>2017-11-21 22:50:40</td>\n",
       "      <td>[[-0.6075439453125, -0.8096923828125, 0.463134...</td>\n",
       "      <td>[[5.2337646484375, 0.152587890625, 15.625], [1...</td>\n",
       "    </tr>\n",
       "    <tr>\n",
       "      <th>2</th>\n",
       "      <td>2017-11-21 21:33:40</td>\n",
       "      <td>[[-0.209716796875, -0.291259765625, 0.20837402...</td>\n",
       "      <td>[[-6.2408447265625, -7.171630859375, 13.198852...</td>\n",
       "    </tr>\n",
       "    <tr>\n",
       "      <th>3</th>\n",
       "      <td>2017-11-21 12:35:20</td>\n",
       "      <td>[[-0.7113037109375, -0.561767578125, -0.050292...</td>\n",
       "      <td>[[-39.5050048828125, -34.8968505859375, -1.022...</td>\n",
       "    </tr>\n",
       "    <tr>\n",
       "      <th>4</th>\n",
       "      <td>2017-11-21 20:55:20</td>\n",
       "      <td>[[-0.821044921875, -1.46142578125, 0.131835937...</td>\n",
       "      <td>[[-3.84521484375, -14.0533447265625, -0.442504...</td>\n",
       "    </tr>\n",
       "  </tbody>\n",
       "</table>\n",
       "</div>"
      ],
      "text/plain": [
       "             timestamp                                              accel  \\\n",
       "0  2017-11-21 11:58:20  [[-0.71630859375, 0.1280517578125, 0.213623046...   \n",
       "1  2017-11-21 22:50:40  [[-0.6075439453125, -0.8096923828125, 0.463134...   \n",
       "2  2017-11-21 21:33:40  [[-0.209716796875, -0.291259765625, 0.20837402...   \n",
       "3  2017-11-21 12:35:20  [[-0.7113037109375, -0.561767578125, -0.050292...   \n",
       "4  2017-11-21 20:55:20  [[-0.821044921875, -1.46142578125, 0.131835937...   \n",
       "\n",
       "                                                gyro  \n",
       "0  [[-218.597412109375, -79.345703125, 173.217773...  \n",
       "1  [[5.2337646484375, 0.152587890625, 15.625], [1...  \n",
       "2  [[-6.2408447265625, -7.171630859375, 13.198852...  \n",
       "3  [[-39.5050048828125, -34.8968505859375, -1.022...  \n",
       "4  [[-3.84521484375, -14.0533447265625, -0.442504...  "
      ]
     },
     "execution_count": 4,
     "metadata": {},
     "output_type": "execute_result"
    }
   ],
   "source": [
    "df.head(5)"
   ]
  },
  {
   "cell_type": "markdown",
   "metadata": {},
   "source": [
    "The 'accel' and 'gyro' columns contains list of list. [[x1, y1, z1], [x2, y2, z2] ... ]"
   ]
  },
  {
   "cell_type": "markdown",
   "metadata": {},
   "source": [
    "somehow the data type of accel and gyro converted to string."
   ]
  },
  {
   "cell_type": "code",
   "execution_count": 5,
   "metadata": {},
   "outputs": [
    {
     "data": {
      "text/plain": [
       "str"
      ]
     },
     "execution_count": 5,
     "metadata": {},
     "output_type": "execute_result"
    }
   ],
   "source": [
    "type(df['accel'].iloc[0])"
   ]
  },
  {
   "cell_type": "markdown",
   "metadata": {},
   "source": [
    "To use this as a list, you have to convert using json"
   ]
  },
  {
   "cell_type": "code",
   "execution_count": 6,
   "metadata": {},
   "outputs": [],
   "source": [
    "df['accel'] = df['accel'].apply(lambda x: json.loads(x))"
   ]
  },
  {
   "cell_type": "code",
   "execution_count": 7,
   "metadata": {},
   "outputs": [
    {
     "data": {
      "text/plain": [
       "list"
      ]
     },
     "execution_count": 7,
     "metadata": {},
     "output_type": "execute_result"
    }
   ],
   "source": [
    "type(df['accel'].iloc[0])"
   ]
  },
  {
   "cell_type": "markdown",
   "metadata": {},
   "source": [
    "The new type of accel is list now."
   ]
  },
  {
   "cell_type": "code",
   "execution_count": null,
   "metadata": {},
   "outputs": [],
   "source": []
  }
 ],
 "metadata": {
  "kernelspec": {
   "display_name": "Python 3",
   "language": "python",
   "name": "python3"
  },
  "language_info": {
   "codemirror_mode": {
    "name": "ipython",
    "version": 3
   },
   "file_extension": ".py",
   "mimetype": "text/x-python",
   "name": "python",
   "nbconvert_exporter": "python",
   "pygments_lexer": "ipython3",
   "version": "3.6.7"
  }
 },
 "nbformat": 4,
 "nbformat_minor": 2
}
