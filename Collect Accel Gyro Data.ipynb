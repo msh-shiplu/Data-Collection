{
 "cells": [
  {
   "cell_type": "code",
   "execution_count": 1,
   "metadata": {},
   "outputs": [
    {
     "data": {
      "text/html": [
       "        <script type=\"text/javascript\">\n",
       "        window.PlotlyConfig = {MathJaxConfig: 'local'};\n",
       "        if (window.MathJax) {MathJax.Hub.Config({SVG: {font: \"STIX-Web\"}});}\n",
       "        if (typeof require !== 'undefined') {\n",
       "        require.undef(\"plotly\");\n",
       "        requirejs.config({\n",
       "            paths: {\n",
       "                'plotly': ['https://cdn.plot.ly/plotly-latest.min']\n",
       "            }\n",
       "        });\n",
       "        require(['plotly'], function(Plotly) {\n",
       "            window._Plotly = Plotly;\n",
       "        });\n",
       "        }\n",
       "        </script>\n",
       "        "
      ]
     },
     "metadata": {},
     "output_type": "display_data"
    }
   ],
   "source": [
    "from cerebralcortex import Kernel\n",
    "import json\n",
    "import pickle\n",
    "# from IPython.display import display\n",
    "# import cufflinks as cf\n",
    "from plotly.offline import iplot, init_notebook_mode\n",
    "import plotly.graph_objs as go\n",
    "import plotly.figure_factory as ff\n",
    "import matplotlib.pyplot as plt\n",
    "import numpy as np\n",
    "import pandas as pd\n",
    "from scipy.stats import gaussian_kde\n",
    "from datetime import datetime, timedelta\n",
    "import random\n",
    "from cerebralcortex.core.datatypes import DataStream\n",
    "from cerebralcortex.core.metadata_manager.stream.metadata import Metadata, DataDescriptor, ModuleMetadata\n",
    "from cerebralcortex.core.util.spark_helper import get_or_create_sc\n",
    "import ipywidgets as widgets\n",
    "\n",
    "\n",
    "init_notebook_mode(connected=True)\n",
    "pd.set_option('display.max_rows',5)"
   ]
  },
  {
   "cell_type": "code",
   "execution_count": 2,
   "metadata": {},
   "outputs": [],
   "source": [
    "import pyspark.sql.functions as F\n",
    "from pyspark.sql.types import *"
   ]
  },
  {
   "cell_type": "code",
   "execution_count": 3,
   "metadata": {},
   "outputs": [
    {
     "name": "stderr",
     "output_type": "stream",
     "text": [
      "ERROR:py4j.java_gateway:An error occurred while trying to connect to the Java server (127.0.0.1:42175)\n",
      "Traceback (most recent call last):\n",
      "  File \"/cerebralcortex/kessel_jupyter_virtualenv/cc3_high_performance/lib/python3.6/site-packages/py4j/java_gateway.py\", line 929, in _get_connection\n",
      "    connection = self.deque.pop()\n",
      "IndexError: pop from an empty deque\n",
      "\n",
      "During handling of the above exception, another exception occurred:\n",
      "\n",
      "Traceback (most recent call last):\n",
      "  File \"/cerebralcortex/kessel_jupyter_virtualenv/cc3_high_performance/lib/python3.6/site-packages/py4j/java_gateway.py\", line 1067, in start\n",
      "    self.socket.connect((self.address, self.port))\n",
      "ConnectionRefusedError: [Errno 111] Connection refused\n"
     ]
    },
    {
     "ename": "Py4JNetworkError",
     "evalue": "An error occurred while trying to connect to the Java server (127.0.0.1:42175)",
     "output_type": "error",
     "traceback": [
      "\u001b[0;31m---------------------------------------------------------------------------\u001b[0m",
      "\u001b[0;31mIndexError\u001b[0m                                Traceback (most recent call last)",
      "\u001b[0;32m/cerebralcortex/kessel_jupyter_virtualenv/cc3_high_performance/lib/python3.6/site-packages/py4j/java_gateway.py\u001b[0m in \u001b[0;36m_get_connection\u001b[0;34m(self)\u001b[0m\n\u001b[1;32m    928\u001b[0m         \u001b[0;32mtry\u001b[0m\u001b[0;34m:\u001b[0m\u001b[0;34m\u001b[0m\u001b[0;34m\u001b[0m\u001b[0m\n\u001b[0;32m--> 929\u001b[0;31m             \u001b[0mconnection\u001b[0m \u001b[0;34m=\u001b[0m \u001b[0mself\u001b[0m\u001b[0;34m.\u001b[0m\u001b[0mdeque\u001b[0m\u001b[0;34m.\u001b[0m\u001b[0mpop\u001b[0m\u001b[0;34m(\u001b[0m\u001b[0;34m)\u001b[0m\u001b[0;34m\u001b[0m\u001b[0;34m\u001b[0m\u001b[0m\n\u001b[0m\u001b[1;32m    930\u001b[0m         \u001b[0;32mexcept\u001b[0m \u001b[0mIndexError\u001b[0m\u001b[0;34m:\u001b[0m\u001b[0;34m\u001b[0m\u001b[0;34m\u001b[0m\u001b[0m\n",
      "\u001b[0;31mIndexError\u001b[0m: pop from an empty deque",
      "\nDuring handling of the above exception, another exception occurred:\n",
      "\u001b[0;31mConnectionRefusedError\u001b[0m                    Traceback (most recent call last)",
      "\u001b[0;32m/cerebralcortex/kessel_jupyter_virtualenv/cc3_high_performance/lib/python3.6/site-packages/py4j/java_gateway.py\u001b[0m in \u001b[0;36mstart\u001b[0;34m(self)\u001b[0m\n\u001b[1;32m   1066\u001b[0m         \u001b[0;32mtry\u001b[0m\u001b[0;34m:\u001b[0m\u001b[0;34m\u001b[0m\u001b[0;34m\u001b[0m\u001b[0m\n\u001b[0;32m-> 1067\u001b[0;31m             \u001b[0mself\u001b[0m\u001b[0;34m.\u001b[0m\u001b[0msocket\u001b[0m\u001b[0;34m.\u001b[0m\u001b[0mconnect\u001b[0m\u001b[0;34m(\u001b[0m\u001b[0;34m(\u001b[0m\u001b[0mself\u001b[0m\u001b[0;34m.\u001b[0m\u001b[0maddress\u001b[0m\u001b[0;34m,\u001b[0m \u001b[0mself\u001b[0m\u001b[0;34m.\u001b[0m\u001b[0mport\u001b[0m\u001b[0;34m)\u001b[0m\u001b[0;34m)\u001b[0m\u001b[0;34m\u001b[0m\u001b[0;34m\u001b[0m\u001b[0m\n\u001b[0m\u001b[1;32m   1068\u001b[0m             \u001b[0mself\u001b[0m\u001b[0;34m.\u001b[0m\u001b[0mstream\u001b[0m \u001b[0;34m=\u001b[0m \u001b[0mself\u001b[0m\u001b[0;34m.\u001b[0m\u001b[0msocket\u001b[0m\u001b[0;34m.\u001b[0m\u001b[0mmakefile\u001b[0m\u001b[0;34m(\u001b[0m\u001b[0;34m\"rb\"\u001b[0m\u001b[0;34m)\u001b[0m\u001b[0;34m\u001b[0m\u001b[0;34m\u001b[0m\u001b[0m\n",
      "\u001b[0;31mConnectionRefusedError\u001b[0m: [Errno 111] Connection refused",
      "\nDuring handling of the above exception, another exception occurred:\n",
      "\u001b[0;31mPy4JNetworkError\u001b[0m                          Traceback (most recent call last)",
      "\u001b[0;32m<ipython-input-3-161a7ebda690>\u001b[0m in \u001b[0;36m<module>\u001b[0;34m\u001b[0m\n\u001b[0;32m----> 1\u001b[0;31m \u001b[0mCC\u001b[0m \u001b[0;34m=\u001b[0m \u001b[0mKernel\u001b[0m\u001b[0;34m(\u001b[0m\u001b[0;34m\"/home/jupyter/cc3_conf/\"\u001b[0m\u001b[0;34m,\u001b[0m \u001b[0mstudy_name\u001b[0m\u001b[0;34m=\u001b[0m\u001b[0;34m'mperf'\u001b[0m\u001b[0;34m)\u001b[0m\u001b[0;34m\u001b[0m\u001b[0;34m\u001b[0m\u001b[0m\n\u001b[0m",
      "\u001b[0;32m/cerebralcortex/kessel_jupyter_virtualenv/cc3_high_performance/lib/python3.6/site-packages/cerebralcortex_kernel-3.1.0.post4-py3.6.egg/cerebralcortex/kernel.py\u001b[0m in \u001b[0;36m__init__\u001b[0;34m(self, configs_dir_path, study_name, new_study, auto_offset_reset, enable_spark, enable_spark_ui)\u001b[0m\n\u001b[1;32m     65\u001b[0m \u001b[0;34m\u001b[0m\u001b[0m\n\u001b[1;32m     66\u001b[0m         \u001b[0;32mif\u001b[0m \u001b[0menable_spark\u001b[0m\u001b[0;34m:\u001b[0m\u001b[0;34m\u001b[0m\u001b[0;34m\u001b[0m\u001b[0m\n\u001b[0;32m---> 67\u001b[0;31m             \u001b[0mself\u001b[0m\u001b[0;34m.\u001b[0m\u001b[0msparkContext\u001b[0m \u001b[0;34m=\u001b[0m \u001b[0mget_or_create_sc\u001b[0m\u001b[0;34m(\u001b[0m\u001b[0menable_spark_ui\u001b[0m\u001b[0;34m=\u001b[0m\u001b[0menable_spark_ui\u001b[0m\u001b[0;34m)\u001b[0m\u001b[0;34m\u001b[0m\u001b[0;34m\u001b[0m\u001b[0m\n\u001b[0m\u001b[1;32m     68\u001b[0m             \u001b[0mself\u001b[0m\u001b[0;34m.\u001b[0m\u001b[0msqlContext\u001b[0m \u001b[0;34m=\u001b[0m \u001b[0mget_or_create_sc\u001b[0m\u001b[0;34m(\u001b[0m\u001b[0mtype\u001b[0m\u001b[0;34m=\u001b[0m\u001b[0;34m\"sqlContext\"\u001b[0m\u001b[0;34m,\u001b[0m \u001b[0menable_spark_ui\u001b[0m\u001b[0;34m=\u001b[0m\u001b[0menable_spark_ui\u001b[0m\u001b[0;34m)\u001b[0m\u001b[0;34m\u001b[0m\u001b[0;34m\u001b[0m\u001b[0m\n\u001b[1;32m     69\u001b[0m             \u001b[0mself\u001b[0m\u001b[0;34m.\u001b[0m\u001b[0msparkSession\u001b[0m \u001b[0;34m=\u001b[0m \u001b[0mget_or_create_sc\u001b[0m\u001b[0;34m(\u001b[0m\u001b[0mtype\u001b[0m\u001b[0;34m=\u001b[0m\u001b[0;34m\"sparkSession\"\u001b[0m\u001b[0;34m,\u001b[0m \u001b[0menable_spark_ui\u001b[0m\u001b[0;34m=\u001b[0m\u001b[0menable_spark_ui\u001b[0m\u001b[0;34m)\u001b[0m\u001b[0;34m\u001b[0m\u001b[0;34m\u001b[0m\u001b[0m\n",
      "\u001b[0;32m/cerebralcortex/kessel_jupyter_virtualenv/cc3_high_performance/lib/python3.6/site-packages/cerebralcortex_kernel-3.1.0.post4-py3.6.egg/cerebralcortex/core/util/spark_helper.py\u001b[0m in \u001b[0;36mget_or_create_sc\u001b[0;34m(type, name, enable_spark_ui)\u001b[0m\n\u001b[1;32m     51\u001b[0m         \u001b[0mss\u001b[0m\u001b[0;34m.\u001b[0m\u001b[0mconfig\u001b[0m\u001b[0;34m(\u001b[0m\u001b[0;34m\"spark.ui.enabled\"\u001b[0m\u001b[0;34m,\u001b[0m \u001b[0menable_spark_ui\u001b[0m\u001b[0;34m)\u001b[0m\u001b[0;34m\u001b[0m\u001b[0;34m\u001b[0m\u001b[0m\n\u001b[1;32m     52\u001b[0m \u001b[0;34m\u001b[0m\u001b[0m\n\u001b[0;32m---> 53\u001b[0;31m     \u001b[0msparkSession\u001b[0m \u001b[0;34m=\u001b[0m \u001b[0mss\u001b[0m\u001b[0;34m.\u001b[0m\u001b[0mgetOrCreate\u001b[0m\u001b[0;34m(\u001b[0m\u001b[0;34m)\u001b[0m\u001b[0;34m\u001b[0m\u001b[0;34m\u001b[0m\u001b[0m\n\u001b[0m\u001b[1;32m     54\u001b[0m \u001b[0;34m\u001b[0m\u001b[0m\n\u001b[1;32m     55\u001b[0m     \u001b[0msc\u001b[0m \u001b[0;34m=\u001b[0m \u001b[0msparkSession\u001b[0m\u001b[0;34m.\u001b[0m\u001b[0msparkContext\u001b[0m\u001b[0;34m\u001b[0m\u001b[0;34m\u001b[0m\u001b[0m\n",
      "\u001b[0;32m/cerebralcortex/kessel_jupyter_virtualenv/cc3_high_performance/lib/python3.6/site-packages/pyspark-3.0.0.dev0-py3.6.egg/pyspark/sql/session.py\u001b[0m in \u001b[0;36mgetOrCreate\u001b[0;34m(self)\u001b[0m\n\u001b[1;32m    177\u001b[0m                         \u001b[0msc\u001b[0m \u001b[0;34m=\u001b[0m \u001b[0mself\u001b[0m\u001b[0;34m.\u001b[0m\u001b[0m_sc\u001b[0m\u001b[0;34m\u001b[0m\u001b[0;34m\u001b[0m\u001b[0m\n\u001b[1;32m    178\u001b[0m                     \u001b[0;32melse\u001b[0m\u001b[0;34m:\u001b[0m\u001b[0;34m\u001b[0m\u001b[0;34m\u001b[0m\u001b[0m\n\u001b[0;32m--> 179\u001b[0;31m                         \u001b[0msparkConf\u001b[0m \u001b[0;34m=\u001b[0m \u001b[0mSparkConf\u001b[0m\u001b[0;34m(\u001b[0m\u001b[0;34m)\u001b[0m\u001b[0;34m\u001b[0m\u001b[0;34m\u001b[0m\u001b[0m\n\u001b[0m\u001b[1;32m    180\u001b[0m                         \u001b[0;32mfor\u001b[0m \u001b[0mkey\u001b[0m\u001b[0;34m,\u001b[0m \u001b[0mvalue\u001b[0m \u001b[0;32min\u001b[0m \u001b[0mself\u001b[0m\u001b[0;34m.\u001b[0m\u001b[0m_options\u001b[0m\u001b[0;34m.\u001b[0m\u001b[0mitems\u001b[0m\u001b[0;34m(\u001b[0m\u001b[0;34m)\u001b[0m\u001b[0;34m:\u001b[0m\u001b[0;34m\u001b[0m\u001b[0;34m\u001b[0m\u001b[0m\n\u001b[1;32m    181\u001b[0m                             \u001b[0msparkConf\u001b[0m\u001b[0;34m.\u001b[0m\u001b[0mset\u001b[0m\u001b[0;34m(\u001b[0m\u001b[0mkey\u001b[0m\u001b[0;34m,\u001b[0m \u001b[0mvalue\u001b[0m\u001b[0;34m)\u001b[0m\u001b[0;34m\u001b[0m\u001b[0;34m\u001b[0m\u001b[0m\n",
      "\u001b[0;32m/cerebralcortex/kessel_jupyter_virtualenv/cc3_high_performance/lib/python3.6/site-packages/pyspark-3.0.0.dev0-py3.6.egg/pyspark/conf.py\u001b[0m in \u001b[0;36m__init__\u001b[0;34m(self, loadDefaults, _jvm, _jconf)\u001b[0m\n\u001b[1;32m    114\u001b[0m             \u001b[0;32mif\u001b[0m \u001b[0m_jvm\u001b[0m \u001b[0;32mis\u001b[0m \u001b[0;32mnot\u001b[0m \u001b[0;32mNone\u001b[0m\u001b[0;34m:\u001b[0m\u001b[0;34m\u001b[0m\u001b[0;34m\u001b[0m\u001b[0m\n\u001b[1;32m    115\u001b[0m                 \u001b[0;31m# JVM is created, so create self._jconf directly through JVM\u001b[0m\u001b[0;34m\u001b[0m\u001b[0;34m\u001b[0m\u001b[0;34m\u001b[0m\u001b[0m\n\u001b[0;32m--> 116\u001b[0;31m                 \u001b[0mself\u001b[0m\u001b[0;34m.\u001b[0m\u001b[0m_jconf\u001b[0m \u001b[0;34m=\u001b[0m \u001b[0m_jvm\u001b[0m\u001b[0;34m.\u001b[0m\u001b[0mSparkConf\u001b[0m\u001b[0;34m(\u001b[0m\u001b[0mloadDefaults\u001b[0m\u001b[0;34m)\u001b[0m\u001b[0;34m\u001b[0m\u001b[0;34m\u001b[0m\u001b[0m\n\u001b[0m\u001b[1;32m    117\u001b[0m                 \u001b[0mself\u001b[0m\u001b[0;34m.\u001b[0m\u001b[0m_conf\u001b[0m \u001b[0;34m=\u001b[0m \u001b[0;32mNone\u001b[0m\u001b[0;34m\u001b[0m\u001b[0;34m\u001b[0m\u001b[0m\n\u001b[1;32m    118\u001b[0m             \u001b[0;32melse\u001b[0m\u001b[0;34m:\u001b[0m\u001b[0;34m\u001b[0m\u001b[0;34m\u001b[0m\u001b[0m\n",
      "\u001b[0;32m/cerebralcortex/kessel_jupyter_virtualenv/cc3_high_performance/lib/python3.6/site-packages/py4j/java_gateway.py\u001b[0m in \u001b[0;36m__getattr__\u001b[0;34m(self, name)\u001b[0m\n\u001b[1;32m   1647\u001b[0m             \u001b[0mproto\u001b[0m\u001b[0;34m.\u001b[0m\u001b[0mREFLECTION_COMMAND_NAME\u001b[0m \u001b[0;34m+\u001b[0m\u001b[0;34m\u001b[0m\u001b[0;34m\u001b[0m\u001b[0m\n\u001b[1;32m   1648\u001b[0m             \u001b[0mproto\u001b[0m\u001b[0;34m.\u001b[0m\u001b[0mREFL_GET_UNKNOWN_SUB_COMMAND_NAME\u001b[0m \u001b[0;34m+\u001b[0m \u001b[0mname\u001b[0m \u001b[0;34m+\u001b[0m \u001b[0;34m\"\\n\"\u001b[0m \u001b[0;34m+\u001b[0m \u001b[0mself\u001b[0m\u001b[0;34m.\u001b[0m\u001b[0m_id\u001b[0m \u001b[0;34m+\u001b[0m\u001b[0;34m\u001b[0m\u001b[0;34m\u001b[0m\u001b[0m\n\u001b[0;32m-> 1649\u001b[0;31m             \"\\n\" + proto.END_COMMAND_PART)\n\u001b[0m\u001b[1;32m   1650\u001b[0m         \u001b[0;32mif\u001b[0m \u001b[0manswer\u001b[0m \u001b[0;34m==\u001b[0m \u001b[0mproto\u001b[0m\u001b[0;34m.\u001b[0m\u001b[0mSUCCESS_PACKAGE\u001b[0m\u001b[0;34m:\u001b[0m\u001b[0;34m\u001b[0m\u001b[0;34m\u001b[0m\u001b[0m\n\u001b[1;32m   1651\u001b[0m             \u001b[0;32mreturn\u001b[0m \u001b[0mJavaPackage\u001b[0m\u001b[0;34m(\u001b[0m\u001b[0mname\u001b[0m\u001b[0;34m,\u001b[0m \u001b[0mself\u001b[0m\u001b[0;34m.\u001b[0m\u001b[0m_gateway_client\u001b[0m\u001b[0;34m,\u001b[0m \u001b[0mjvm_id\u001b[0m\u001b[0;34m=\u001b[0m\u001b[0mself\u001b[0m\u001b[0;34m.\u001b[0m\u001b[0m_id\u001b[0m\u001b[0;34m)\u001b[0m\u001b[0;34m\u001b[0m\u001b[0;34m\u001b[0m\u001b[0m\n",
      "\u001b[0;32m/cerebralcortex/kessel_jupyter_virtualenv/cc3_high_performance/lib/python3.6/site-packages/py4j/java_gateway.py\u001b[0m in \u001b[0;36msend_command\u001b[0;34m(self, command, retry, binary)\u001b[0m\n\u001b[1;32m    981\u001b[0m          \u001b[0;32mif\u001b[0m\u001b[0;31m \u001b[0m\u001b[0;31m`\u001b[0m\u001b[0mbinary\u001b[0m\u001b[0;31m`\u001b[0m \u001b[0;32mis\u001b[0m\u001b[0;31m \u001b[0m\u001b[0;31m`\u001b[0m\u001b[0;32mTrue\u001b[0m\u001b[0;31m`\u001b[0m\u001b[0;34m.\u001b[0m\u001b[0;34m\u001b[0m\u001b[0;34m\u001b[0m\u001b[0m\n\u001b[1;32m    982\u001b[0m         \"\"\"\n\u001b[0;32m--> 983\u001b[0;31m         \u001b[0mconnection\u001b[0m \u001b[0;34m=\u001b[0m \u001b[0mself\u001b[0m\u001b[0;34m.\u001b[0m\u001b[0m_get_connection\u001b[0m\u001b[0;34m(\u001b[0m\u001b[0;34m)\u001b[0m\u001b[0;34m\u001b[0m\u001b[0;34m\u001b[0m\u001b[0m\n\u001b[0m\u001b[1;32m    984\u001b[0m         \u001b[0;32mtry\u001b[0m\u001b[0;34m:\u001b[0m\u001b[0;34m\u001b[0m\u001b[0;34m\u001b[0m\u001b[0m\n\u001b[1;32m    985\u001b[0m             \u001b[0mresponse\u001b[0m \u001b[0;34m=\u001b[0m \u001b[0mconnection\u001b[0m\u001b[0;34m.\u001b[0m\u001b[0msend_command\u001b[0m\u001b[0;34m(\u001b[0m\u001b[0mcommand\u001b[0m\u001b[0;34m)\u001b[0m\u001b[0;34m\u001b[0m\u001b[0;34m\u001b[0m\u001b[0m\n",
      "\u001b[0;32m/cerebralcortex/kessel_jupyter_virtualenv/cc3_high_performance/lib/python3.6/site-packages/py4j/java_gateway.py\u001b[0m in \u001b[0;36m_get_connection\u001b[0;34m(self)\u001b[0m\n\u001b[1;32m    929\u001b[0m             \u001b[0mconnection\u001b[0m \u001b[0;34m=\u001b[0m \u001b[0mself\u001b[0m\u001b[0;34m.\u001b[0m\u001b[0mdeque\u001b[0m\u001b[0;34m.\u001b[0m\u001b[0mpop\u001b[0m\u001b[0;34m(\u001b[0m\u001b[0;34m)\u001b[0m\u001b[0;34m\u001b[0m\u001b[0;34m\u001b[0m\u001b[0m\n\u001b[1;32m    930\u001b[0m         \u001b[0;32mexcept\u001b[0m \u001b[0mIndexError\u001b[0m\u001b[0;34m:\u001b[0m\u001b[0;34m\u001b[0m\u001b[0;34m\u001b[0m\u001b[0m\n\u001b[0;32m--> 931\u001b[0;31m             \u001b[0mconnection\u001b[0m \u001b[0;34m=\u001b[0m \u001b[0mself\u001b[0m\u001b[0;34m.\u001b[0m\u001b[0m_create_connection\u001b[0m\u001b[0;34m(\u001b[0m\u001b[0;34m)\u001b[0m\u001b[0;34m\u001b[0m\u001b[0;34m\u001b[0m\u001b[0m\n\u001b[0m\u001b[1;32m    932\u001b[0m         \u001b[0;32mreturn\u001b[0m \u001b[0mconnection\u001b[0m\u001b[0;34m\u001b[0m\u001b[0;34m\u001b[0m\u001b[0m\n\u001b[1;32m    933\u001b[0m \u001b[0;34m\u001b[0m\u001b[0m\n",
      "\u001b[0;32m/cerebralcortex/kessel_jupyter_virtualenv/cc3_high_performance/lib/python3.6/site-packages/py4j/java_gateway.py\u001b[0m in \u001b[0;36m_create_connection\u001b[0;34m(self)\u001b[0m\n\u001b[1;32m    935\u001b[0m         connection = GatewayConnection(\n\u001b[1;32m    936\u001b[0m             self.gateway_parameters, self.gateway_property)\n\u001b[0;32m--> 937\u001b[0;31m         \u001b[0mconnection\u001b[0m\u001b[0;34m.\u001b[0m\u001b[0mstart\u001b[0m\u001b[0;34m(\u001b[0m\u001b[0;34m)\u001b[0m\u001b[0;34m\u001b[0m\u001b[0;34m\u001b[0m\u001b[0m\n\u001b[0m\u001b[1;32m    938\u001b[0m         \u001b[0;32mreturn\u001b[0m \u001b[0mconnection\u001b[0m\u001b[0;34m\u001b[0m\u001b[0;34m\u001b[0m\u001b[0m\n\u001b[1;32m    939\u001b[0m \u001b[0;34m\u001b[0m\u001b[0m\n",
      "\u001b[0;32m/cerebralcortex/kessel_jupyter_virtualenv/cc3_high_performance/lib/python3.6/site-packages/py4j/java_gateway.py\u001b[0m in \u001b[0;36mstart\u001b[0;34m(self)\u001b[0m\n\u001b[1;32m   1077\u001b[0m                 \u001b[0;34m\"server ({0}:{1})\"\u001b[0m\u001b[0;34m.\u001b[0m\u001b[0mformat\u001b[0m\u001b[0;34m(\u001b[0m\u001b[0mself\u001b[0m\u001b[0;34m.\u001b[0m\u001b[0maddress\u001b[0m\u001b[0;34m,\u001b[0m \u001b[0mself\u001b[0m\u001b[0;34m.\u001b[0m\u001b[0mport\u001b[0m\u001b[0;34m)\u001b[0m\u001b[0;34m\u001b[0m\u001b[0;34m\u001b[0m\u001b[0m\n\u001b[1;32m   1078\u001b[0m             \u001b[0mlogger\u001b[0m\u001b[0;34m.\u001b[0m\u001b[0mexception\u001b[0m\u001b[0;34m(\u001b[0m\u001b[0mmsg\u001b[0m\u001b[0;34m)\u001b[0m\u001b[0;34m\u001b[0m\u001b[0;34m\u001b[0m\u001b[0m\n\u001b[0;32m-> 1079\u001b[0;31m             \u001b[0;32mraise\u001b[0m \u001b[0mPy4JNetworkError\u001b[0m\u001b[0;34m(\u001b[0m\u001b[0mmsg\u001b[0m\u001b[0;34m,\u001b[0m \u001b[0me\u001b[0m\u001b[0;34m)\u001b[0m\u001b[0;34m\u001b[0m\u001b[0;34m\u001b[0m\u001b[0m\n\u001b[0m\u001b[1;32m   1080\u001b[0m \u001b[0;34m\u001b[0m\u001b[0m\n\u001b[1;32m   1081\u001b[0m     \u001b[0;32mdef\u001b[0m \u001b[0m_authenticate_connection\u001b[0m\u001b[0;34m(\u001b[0m\u001b[0mself\u001b[0m\u001b[0;34m)\u001b[0m\u001b[0;34m:\u001b[0m\u001b[0;34m\u001b[0m\u001b[0;34m\u001b[0m\u001b[0m\n",
      "\u001b[0;31mPy4JNetworkError\u001b[0m: An error occurred while trying to connect to the Java server (127.0.0.1:42175)"
     ]
    }
   ],
   "source": [
    "CC = Kernel(\"/home/jupyter/cc3_conf/\", study_name='mperf')"
   ]
  },
  {
   "cell_type": "code",
   "execution_count": 4,
   "metadata": {},
   "outputs": [
    {
     "data": {
      "text/plain": [
       "['/cc3/study=mperf/gyroscope--org.md2k.motionsense--motion_sense_hrv--left_wrist',\n",
       " '/cc3/study=mperf/gyroscope--org.md2k.motionsense--motion_sense_hrv--right_wrist',\n",
       " '/cc3/study=mperf/gyroscope--org.md2k.phonesensor--phone']"
      ]
     },
     "execution_count": 4,
     "metadata": {},
     "output_type": "execute_result"
    }
   ],
   "source": [
    "CC.search_stream('gyro')"
   ]
  },
  {
   "cell_type": "code",
   "execution_count": 5,
   "metadata": {},
   "outputs": [],
   "source": [
    "accelerometer_right_wrist_stream_name = 'accelerometer--org.md2k.motionsense--motion_sense_hrv--right_wrist'\n",
    "gyroscope_right_wrist_stream_name = 'gyroscope--org.md2k.motionsense--motion_sense_hrv--right_wrist'"
   ]
  },
  {
   "cell_type": "code",
   "execution_count": 6,
   "metadata": {},
   "outputs": [],
   "source": [
    "# user_id = CC.list_users()[0]['user_id']\n",
    "user_id = CC.get_user_id('mperf_1000')\n",
    "user_name = CC.get_user_name(user_id)"
   ]
  },
  {
   "cell_type": "code",
   "execution_count": 7,
   "metadata": {},
   "outputs": [],
   "source": [
    "accel_ds = CC.get_stream(accelerometer_right_wrist_stream_name, user_id=user_id).filter(\"accelerometer_x >= -4 AND accelerometer_x <= 4 AND accelerometer_y >= -4 AND accelerometer_y <= 4 AND accelerometer_z >= -4 AND accelerometer_z <= 4\")"
   ]
  },
  {
   "cell_type": "code",
   "execution_count": 8,
   "metadata": {},
   "outputs": [],
   "source": [
    "gyro_ds = CC.get_stream(gyroscope_right_wrist_stream_name, user_id=user_id).filter(\"gyroscope_x >= -250 AND gyroscope_x <= 250 AND gyroscope_y >= -250 AND gyroscope_y <= 250 AND gyroscope_z >= -250 AND gyroscope_z <= 250\")"
   ]
  },
  {
   "cell_type": "code",
   "execution_count": 9,
   "metadata": {},
   "outputs": [],
   "source": [
    "accel_w = accel_ds.window(windowDuration=20)\n",
    "gyro_w = gyro_ds.window(windowDuration=20)"
   ]
  },
  {
   "cell_type": "code",
   "execution_count": 10,
   "metadata": {},
   "outputs": [],
   "source": [
    "gyro_w = gyro_w.drop(\"version\", \"user\")"
   ]
  },
  {
   "cell_type": "code",
   "execution_count": 11,
   "metadata": {},
   "outputs": [],
   "source": [
    "common_ds = accel_w.join(gyro_w, on=\"window\")"
   ]
  },
  {
   "cell_type": "code",
   "execution_count": 12,
   "metadata": {},
   "outputs": [],
   "source": [
    "common_ds = common_ds.withColumn('timestamp', F.udf(lambda w: w[0], TimestampType())('window')).drop('window')"
   ]
  },
  {
   "cell_type": "code",
   "execution_count": 13,
   "metadata": {},
   "outputs": [],
   "source": [
    "def is_correct_accel_data(data):\n",
    "#     data = np.array([accel_x, accel_y, accel_z]).T\n",
    "    mg = np.mean([np.linalg.norm(x) for x in data])\n",
    "    if mg < 0.8:\n",
    "        return 0\n",
    "    return 1\n",
    "udf_is_correct_accel_data = F.udf(is_correct_accel_data, IntegerType())\n",
    "\n",
    "def correct_accel(data, is_correct):\n",
    "    if is_correct == 1:\n",
    "        return data\n",
    "    data = np.array(data)*2\n",
    "    return data.tolist()\n",
    "udf_correct_accel = F.udf(correct_accel, ArrayType(DoubleType()))\n"
   ]
  },
  {
   "cell_type": "code",
   "execution_count": 34,
   "metadata": {},
   "outputs": [],
   "source": [
    "# schema = StructType([StructField(\"timestamp\", TimestampType()), StructField(\"accel\", ArrayType(ArrayType(DoubleType()))), StructField(\"gyro\", ArrayType(ArrayType(DoubleType())))])\n",
    "schema = StructType([StructField(\"count\", IntegerType())])\n",
    "@F.pandas_udf(schema, F.PandasUDFType.GROUPED_MAP)\n",
    "def get_data_count_udf(user_data):\n",
    "#     if len(user_data.index) < 600:\n",
    "#         return pd.DataFrame([], columns=['timestamp', 'accel', 'gyro'])\n",
    "    is_movement = []\n",
    "    correct_data = []\n",
    "    for index, row in user_data.iterrows():\n",
    "        al = len(row['accelerometer_x'])\n",
    "        gl = len(row['gyroscope_x'])\n",
    "        if al<400:  # 25 * 20 * 60% (frequency * window_size * threshold%)\n",
    "            is_movement.append(0)\n",
    "            correct_data.append(1)\n",
    "            continue\n",
    "    \n",
    "        accel_data = np.array([*row['accelerometer_x'], *row['accelerometer_y'], *row['accelerometer_z']])\n",
    "        \n",
    "        accel_data = accel_data.reshape(-1, al)\n",
    "        accel_data = accel_data.T\n",
    "        if not is_correct_accel_data(accel_data):\n",
    "            ax = 2*np.array(row['accelerometer_x']).tolist()\n",
    "            ay = 2*np.array(row['accelerometer_y']).tolist()\n",
    "            az = 2*np.array(row['accelerometer_z']).tolist()\n",
    "            accel_data = np.array([*ax, *ay, *az])\n",
    "            accel_data = accel_data.reshape(-1, al)\n",
    "            accel_data = accel_data.T\n",
    "            correct_data.append(0)\n",
    "        else:\n",
    "            correct_data.append(1)\n",
    "        mg = [np.linalg.norm(x) for x in accel_data]\n",
    "        sd= np.std(mg)\n",
    "        if sd >= 0.21:\n",
    "            is_movement.append(1)\n",
    "        else:\n",
    "            is_movement.append(0)\n",
    "    user_data['is_movement'] = is_movement\n",
    "    user_data['correct'] = correct_data\n",
    "    data_movement = user_data[user_data['is_movement']==1]\n",
    "    return pd.DataFrame(data={'count':[len(data_movement.index)]})\n",
    "#     if len(data_movement.index) < 600:\n",
    "#         return pd.DataFrame([], columns=['timestamp', 'accel', 'gyro'])\n",
    "#     leap = 1# int(np.floor(len(data_movement.index) / 600))\n",
    "#     ts = []\n",
    "#     adt = []\n",
    "#     gdt = []\n",
    "#     for i in range(0, len(data_movement.index), leap):\n",
    "#         row = data_movement.iloc[i]\n",
    "#         al = len(row['accelerometer_x'])\n",
    "#         gl = len(row['gyroscope_x'])\n",
    "#         ts.append(row['timestamp'])\n",
    "#         if row['correct']==1:\n",
    "#             accel_data = np.array([*row['accelerometer_x'], *row['accelerometer_y'], *row['accelerometer_z']])\n",
    "#         else:\n",
    "#             ax = 2*np.array(row['accelerometer_x']).tolist()\n",
    "#             ay = 2*np.array(row['accelerometer_y']).tolist()\n",
    "#             az = 2*np.array(row['accelerometer_z']).tolist()\n",
    "#             accel_data = np.array([*ax, *ay, *az])\n",
    "                                   \n",
    "#         gyro_data = np.array([*row['gyroscope_x'], *row['gyroscope_y'], *row['gyroscope_z']])\n",
    "#         accel_data = accel_data.reshape(-1, al)\n",
    "#         gyro_data = gyro_data.reshape(-1, gl)\n",
    "#         accel_data = accel_data.T\n",
    "#         gyro_data = gyro_data.T\n",
    "        \n",
    "#         adt.append(accel_data.tolist())\n",
    "#         gdt.append(gyro_data.tolist())\n",
    "#         if len(ts)>=600:\n",
    "#             break\n",
    "#     return pd.DataFrame(data={'timestamp': ts, 'accel': adt, 'gyro': gdt})"
   ]
  },
  {
   "cell_type": "code",
   "execution_count": 41,
   "metadata": {},
   "outputs": [],
   "source": [
    "schema = StructType([StructField(\"timestamp\", TimestampType()), StructField(\"accel\", ArrayType(ArrayType(DoubleType()))), StructField(\"gyro\", ArrayType(ArrayType(DoubleType())))])\n",
    "# schema = StructType([StructField(\"count\", IntegerType())])\n",
    "@F.pandas_udf(schema, F.PandasUDFType.GROUPED_MAP)\n",
    "def get_data_udf(user_data):\n",
    "#     if len(user_data.index) < 600:\n",
    "#         return pd.DataFrame([], columns=['timestamp', 'accel', 'gyro'])\n",
    "    is_movement = []\n",
    "    correct_data = []\n",
    "    for index, row in user_data.iterrows():\n",
    "        al = len(row['accelerometer_x'])\n",
    "        gl = len(row['gyroscope_x'])\n",
    "        if al<400:  # 25 * 20 * 60% (frequency * window_size * threshold%)\n",
    "            is_movement.append(0)\n",
    "            correct_data.append(1)\n",
    "            continue\n",
    "    \n",
    "        accel_data = np.array([*row['accelerometer_x'], *row['accelerometer_y'], *row['accelerometer_z']])\n",
    "        \n",
    "        accel_data = accel_data.reshape(-1, al)\n",
    "        accel_data = accel_data.T\n",
    "        if not is_correct_accel_data(accel_data):\n",
    "            ax = 2*np.array(row['accelerometer_x']).tolist()\n",
    "            ay = 2*np.array(row['accelerometer_y']).tolist()\n",
    "            az = 2*np.array(row['accelerometer_z']).tolist()\n",
    "            accel_data = np.array([*ax, *ay, *az])\n",
    "            accel_data = accel_data.reshape(-1, al)\n",
    "            accel_data = accel_data.T\n",
    "            correct_data.append(0)\n",
    "        else:\n",
    "            correct_data.append(1)\n",
    "        mg = [np.linalg.norm(x) for x in accel_data]\n",
    "        sd= np.std(mg)\n",
    "        if sd >= 0.21:\n",
    "            is_movement.append(1)\n",
    "        else:\n",
    "            is_movement.append(0)\n",
    "    user_data['is_movement'] = is_movement\n",
    "    user_data['correct'] = correct_data\n",
    "    data_movement = user_data[user_data['is_movement']==1]\n",
    "    current = len(data_movement.index)\n",
    "    \n",
    "    if len(data_movement.index) == 0:\n",
    "        return pd.DataFrame([], columns=['timestamp', 'accel', 'gyro'])\n",
    "#     leap = 1# int(np.floor(len(data_movement.index) / 600))\n",
    "    ts = []\n",
    "    adt = []\n",
    "    gdt = []\n",
    "    tot = int(np.ceil(len(data_movement.index)*600/user_data['Available'].iloc[0]))\n",
    "    for i in range(len(data_movement.index)):\n",
    "        row = data_movement.iloc[i]\n",
    "        al = len(row['accelerometer_x'])\n",
    "        gl = len(row['gyroscope_x'])\n",
    "        ts.append(row['timestamp'])\n",
    "        if row['correct']==1:\n",
    "            accel_data = np.array([*row['accelerometer_x'], *row['accelerometer_y'], *row['accelerometer_z']])\n",
    "        else:\n",
    "            ax = 2*np.array(row['accelerometer_x']).tolist()\n",
    "            ay = 2*np.array(row['accelerometer_y']).tolist()\n",
    "            az = 2*np.array(row['accelerometer_z']).tolist()\n",
    "            accel_data = np.array([*ax, *ay, *az])\n",
    "                                   \n",
    "        gyro_data = np.array([*row['gyroscope_x'], *row['gyroscope_y'], *row['gyroscope_z']])\n",
    "        accel_data = accel_data.reshape(-1, al)\n",
    "        gyro_data = gyro_data.reshape(-1, gl)\n",
    "        accel_data = accel_data.T\n",
    "        gyro_data = gyro_data.T\n",
    "        \n",
    "        adt.append(accel_data.tolist())\n",
    "        gdt.append(gyro_data.tolist())\n",
    "        if len(ts)>=tot:\n",
    "            break\n",
    "    return pd.DataFrame(data={'timestamp': ts, 'accel': adt, 'gyro': gdt})"
   ]
  },
  {
   "cell_type": "code",
   "execution_count": 36,
   "metadata": {},
   "outputs": [],
   "source": [
    "windowDuration = \"1 day\"\n",
    "groupbycols = [\"user\", \"version\"]\n",
    "\n",
    "win = F.window(\"timestamp\", windowDuration=windowDuration)\n",
    "\n",
    "groupbycols.append(win)\n",
    "\n",
    "count_data = common_ds._data.groupBy(groupbycols).apply(get_data_count_udf)"
   ]
  },
  {
   "cell_type": "code",
   "execution_count": 37,
   "metadata": {},
   "outputs": [],
   "source": [
    "total = count_data.agg(F.sum(\"count\")).collect()[0][0]"
   ]
  },
  {
   "cell_type": "code",
   "execution_count": 40,
   "metadata": {},
   "outputs": [],
   "source": [
    "common_ds = common_ds.withColumn('Available', F.lit(total))"
   ]
  },
  {
   "cell_type": "code",
   "execution_count": 42,
   "metadata": {},
   "outputs": [],
   "source": [
    "data = common_ds._data.groupby(groupbycols).apply(get_data_udf)"
   ]
  },
  {
   "cell_type": "code",
   "execution_count": 43,
   "metadata": {},
   "outputs": [],
   "source": [
    "pdf = data.toPandas()"
   ]
  },
  {
   "cell_type": "code",
   "execution_count": 49,
   "metadata": {},
   "outputs": [],
   "source": [
    "pdf.to_csv('data/'+user_name+'.csv.gz', compression='gzip', index=False)"
   ]
  },
  {
   "cell_type": "code",
   "execution_count": 74,
   "metadata": {},
   "outputs": [],
   "source": [
    "pdf2 = pd.read_csv('data/mperf_1012.csv.gz')"
   ]
  },
  {
   "cell_type": "code",
   "execution_count": 75,
   "metadata": {},
   "outputs": [
    {
     "data": {
      "text/plain": [
       "618"
      ]
     },
     "execution_count": 75,
     "metadata": {},
     "output_type": "execute_result"
    }
   ],
   "source": [
    "len(pdf2.index)"
   ]
  },
  {
   "cell_type": "code",
   "execution_count": 15,
   "metadata": {},
   "outputs": [
    {
     "ename": "AttributeError",
     "evalue": "'list' object has no attribute 'toPandas'",
     "output_type": "error",
     "traceback": [
      "\u001b[0;31m---------------------------------------------------------------------------\u001b[0m",
      "\u001b[0;31mAttributeError\u001b[0m                            Traceback (most recent call last)",
      "\u001b[0;32m<ipython-input-15-02fa6c0af825>\u001b[0m in \u001b[0;36m<module>\u001b[0;34m\u001b[0m\n\u001b[0;32m----> 1\u001b[0;31m \u001b[0mpdf\u001b[0m \u001b[0;34m=\u001b[0m \u001b[0mtest_df\u001b[0m\u001b[0;34m.\u001b[0m\u001b[0mtoPandas\u001b[0m\u001b[0;34m(\u001b[0m\u001b[0;34m)\u001b[0m\u001b[0;34m\u001b[0m\u001b[0;34m\u001b[0m\u001b[0m\n\u001b[0m",
      "\u001b[0;31mAttributeError\u001b[0m: 'list' object has no attribute 'toPandas'"
     ]
    }
   ],
   "source": [
    "pdf = test_df.toPandas()"
   ]
  },
  {
   "cell_type": "code",
   "execution_count": 19,
   "metadata": {},
   "outputs": [
    {
     "name": "stderr",
     "output_type": "stream",
     "text": [
      "IOPub data rate exceeded.\n",
      "The notebook server will temporarily stop sending output\n",
      "to the client in order to avoid crashing it.\n",
      "To change this limit, set the config variable\n",
      "`--NotebookApp.iopub_data_rate_limit`.\n",
      "\n",
      "Current values:\n",
      "NotebookApp.iopub_data_rate_limit=1000000.0 (bytes/sec)\n",
      "NotebookApp.rate_limit_window=3.0 (secs)\n",
      "\n"
     ]
    }
   ],
   "source": [
    "test.show(1, truncate=False)"
   ]
  },
  {
   "cell_type": "code",
   "execution_count": 15,
   "metadata": {},
   "outputs": [
    {
     "ename": "Py4JJavaError",
     "evalue": "An error occurred while calling o209.collectToPython.\n: org.apache.spark.SparkException: Job aborted due to stage failure: Total size of serialized results of 196 tasks (1038.3 MiB) is bigger than spark.driver.maxResultSize (1024.0 MiB)\n\tat org.apache.spark.scheduler.DAGScheduler.failJobAndIndependentStages(DAGScheduler.scala:1979)\n\tat org.apache.spark.scheduler.DAGScheduler.$anonfun$abortStage$2(DAGScheduler.scala:1967)\n\tat org.apache.spark.scheduler.DAGScheduler.$anonfun$abortStage$2$adapted(DAGScheduler.scala:1966)\n\tat scala.collection.mutable.ResizableArray.foreach(ResizableArray.scala:62)\n\tat scala.collection.mutable.ResizableArray.foreach$(ResizableArray.scala:55)\n\tat scala.collection.mutable.ArrayBuffer.foreach(ArrayBuffer.scala:49)\n\tat org.apache.spark.scheduler.DAGScheduler.abortStage(DAGScheduler.scala:1966)\n\tat org.apache.spark.scheduler.DAGScheduler.$anonfun$handleTaskSetFailed$1(DAGScheduler.scala:946)\n\tat org.apache.spark.scheduler.DAGScheduler.$anonfun$handleTaskSetFailed$1$adapted(DAGScheduler.scala:946)\n\tat scala.Option.foreach(Option.scala:407)\n\tat org.apache.spark.scheduler.DAGScheduler.handleTaskSetFailed(DAGScheduler.scala:946)\n\tat org.apache.spark.scheduler.DAGSchedulerEventProcessLoop.doOnReceive(DAGScheduler.scala:2196)\n\tat org.apache.spark.scheduler.DAGSchedulerEventProcessLoop.onReceive(DAGScheduler.scala:2145)\n\tat org.apache.spark.scheduler.DAGSchedulerEventProcessLoop.onReceive(DAGScheduler.scala:2134)\n\tat org.apache.spark.util.EventLoop$$anon$1.run(EventLoop.scala:49)\n\tat org.apache.spark.scheduler.DAGScheduler.runJob(DAGScheduler.scala:748)\n\tat org.apache.spark.SparkContext.runJob(SparkContext.scala:2095)\n\tat org.apache.spark.SparkContext.runJob(SparkContext.scala:2116)\n\tat org.apache.spark.SparkContext.runJob(SparkContext.scala:2135)\n\tat org.apache.spark.SparkContext.runJob(SparkContext.scala:2160)\n\tat org.apache.spark.rdd.RDD.$anonfun$collect$1(RDD.scala:1004)\n\tat org.apache.spark.rdd.RDDOperationScope$.withScope(RDDOperationScope.scala:151)\n\tat org.apache.spark.rdd.RDDOperationScope$.withScope(RDDOperationScope.scala:112)\n\tat org.apache.spark.rdd.RDD.withScope(RDD.scala:388)\n\tat org.apache.spark.rdd.RDD.collect(RDD.scala:1003)\n\tat org.apache.spark.sql.execution.SparkPlan.executeCollect(SparkPlan.scala:381)\n\tat org.apache.spark.sql.Dataset.$anonfun$collectToPython$1(Dataset.scala:3245)\n\tat org.apache.spark.sql.Dataset.$anonfun$withAction$1(Dataset.scala:3407)\n\tat org.apache.spark.sql.execution.SQLExecution$.$anonfun$withNewExecutionId$4(SQLExecution.scala:100)\n\tat org.apache.spark.sql.execution.SQLExecution$.withSQLConfPropagated(SQLExecution.scala:160)\n\tat org.apache.spark.sql.execution.SQLExecution$.withNewExecutionId(SQLExecution.scala:87)\n\tat org.apache.spark.sql.Dataset.withAction(Dataset.scala:3403)\n\tat org.apache.spark.sql.Dataset.collectToPython(Dataset.scala:3242)\n\tat sun.reflect.NativeMethodAccessorImpl.invoke0(Native Method)\n\tat sun.reflect.NativeMethodAccessorImpl.invoke(NativeMethodAccessorImpl.java:62)\n\tat sun.reflect.DelegatingMethodAccessorImpl.invoke(DelegatingMethodAccessorImpl.java:43)\n\tat java.lang.reflect.Method.invoke(Method.java:498)\n\tat py4j.reflection.MethodInvoker.invoke(MethodInvoker.java:244)\n\tat py4j.reflection.ReflectionEngine.invoke(ReflectionEngine.java:357)\n\tat py4j.Gateway.invoke(Gateway.java:282)\n\tat py4j.commands.AbstractCommand.invokeMethod(AbstractCommand.java:132)\n\tat py4j.commands.CallCommand.execute(CallCommand.java:79)\n\tat py4j.GatewayConnection.run(GatewayConnection.java:238)\n\tat java.lang.Thread.run(Thread.java:748)\n",
     "output_type": "error",
     "traceback": [
      "\u001b[0;31m---------------------------------------------------------------------------\u001b[0m",
      "\u001b[0;31mPy4JJavaError\u001b[0m                             Traceback (most recent call last)",
      "\u001b[0;32m<ipython-input-15-2a813603e2c8>\u001b[0m in \u001b[0;36m<module>\u001b[0;34m\u001b[0m\n\u001b[0;32m----> 1\u001b[0;31m \u001b[0mdt\u001b[0m \u001b[0;34m=\u001b[0m \u001b[0mtest\u001b[0m\u001b[0;34m.\u001b[0m\u001b[0mcollect\u001b[0m\u001b[0;34m(\u001b[0m\u001b[0;34m)\u001b[0m\u001b[0;34m\u001b[0m\u001b[0;34m\u001b[0m\u001b[0m\n\u001b[0m",
      "\u001b[0;32m/cerebralcortex/kessel_jupyter_virtualenv/cc3_high_performance/lib/python3.6/site-packages/cerebralcortex_kernel-3.1.0.post4-py3.6.egg/cerebralcortex/core/datatypes/datastream.py\u001b[0m in \u001b[0;36mcollect\u001b[0;34m(self)\u001b[0m\n\u001b[1;32m    690\u001b[0m             \u001b[0;34m>>\u001b[0m\u001b[0;34m>\u001b[0m \u001b[0mds\u001b[0m\u001b[0;34m.\u001b[0m\u001b[0mcollect\u001b[0m\u001b[0;34m(\u001b[0m\u001b[0;34m)\u001b[0m\u001b[0;34m\u001b[0m\u001b[0;34m\u001b[0m\u001b[0m\n\u001b[1;32m    691\u001b[0m         \"\"\"\n\u001b[0;32m--> 692\u001b[0;31m         \u001b[0;32mreturn\u001b[0m \u001b[0mDataStream\u001b[0m\u001b[0;34m(\u001b[0m\u001b[0mdata\u001b[0m\u001b[0;34m=\u001b[0m\u001b[0mself\u001b[0m\u001b[0;34m.\u001b[0m\u001b[0m_data\u001b[0m\u001b[0;34m.\u001b[0m\u001b[0mcollect\u001b[0m\u001b[0;34m(\u001b[0m\u001b[0;34m)\u001b[0m\u001b[0;34m,\u001b[0m \u001b[0mmetadata\u001b[0m\u001b[0;34m=\u001b[0m\u001b[0mMetadata\u001b[0m\u001b[0;34m(\u001b[0m\u001b[0;34m)\u001b[0m\u001b[0;34m)\u001b[0m\u001b[0;34m\u001b[0m\u001b[0;34m\u001b[0m\u001b[0m\n\u001b[0m\u001b[1;32m    693\u001b[0m \u001b[0;34m\u001b[0m\u001b[0m\n\u001b[1;32m    694\u001b[0m     \u001b[0;32mdef\u001b[0m \u001b[0mcrossJoin\u001b[0m\u001b[0;34m(\u001b[0m\u001b[0mself\u001b[0m\u001b[0;34m,\u001b[0m \u001b[0mother\u001b[0m\u001b[0;34m)\u001b[0m\u001b[0;34m:\u001b[0m\u001b[0;34m\u001b[0m\u001b[0;34m\u001b[0m\u001b[0m\n",
      "\u001b[0;32m/cerebralcortex/kessel_jupyter_virtualenv/cc3_high_performance/lib/python3.6/site-packages/pyspark-3.0.0.dev0-py3.6.egg/pyspark/sql/dataframe.py\u001b[0m in \u001b[0;36mcollect\u001b[0;34m(self)\u001b[0m\n\u001b[1;32m    516\u001b[0m         \"\"\"\n\u001b[1;32m    517\u001b[0m         \u001b[0;32mwith\u001b[0m \u001b[0mSCCallSiteSync\u001b[0m\u001b[0;34m(\u001b[0m\u001b[0mself\u001b[0m\u001b[0;34m.\u001b[0m\u001b[0m_sc\u001b[0m\u001b[0;34m)\u001b[0m \u001b[0;32mas\u001b[0m \u001b[0mcss\u001b[0m\u001b[0;34m:\u001b[0m\u001b[0;34m\u001b[0m\u001b[0;34m\u001b[0m\u001b[0m\n\u001b[0;32m--> 518\u001b[0;31m             \u001b[0msock_info\u001b[0m \u001b[0;34m=\u001b[0m \u001b[0mself\u001b[0m\u001b[0;34m.\u001b[0m\u001b[0m_jdf\u001b[0m\u001b[0;34m.\u001b[0m\u001b[0mcollectToPython\u001b[0m\u001b[0;34m(\u001b[0m\u001b[0;34m)\u001b[0m\u001b[0;34m\u001b[0m\u001b[0;34m\u001b[0m\u001b[0m\n\u001b[0m\u001b[1;32m    519\u001b[0m         \u001b[0;32mreturn\u001b[0m \u001b[0mlist\u001b[0m\u001b[0;34m(\u001b[0m\u001b[0m_load_from_socket\u001b[0m\u001b[0;34m(\u001b[0m\u001b[0msock_info\u001b[0m\u001b[0;34m,\u001b[0m \u001b[0mBatchedSerializer\u001b[0m\u001b[0;34m(\u001b[0m\u001b[0mPickleSerializer\u001b[0m\u001b[0;34m(\u001b[0m\u001b[0;34m)\u001b[0m\u001b[0;34m)\u001b[0m\u001b[0;34m)\u001b[0m\u001b[0;34m)\u001b[0m\u001b[0;34m\u001b[0m\u001b[0;34m\u001b[0m\u001b[0m\n\u001b[1;32m    520\u001b[0m \u001b[0;34m\u001b[0m\u001b[0m\n",
      "\u001b[0;32m/cerebralcortex/kessel_jupyter_virtualenv/cc3_high_performance/lib/python3.6/site-packages/py4j/java_gateway.py\u001b[0m in \u001b[0;36m__call__\u001b[0;34m(self, *args)\u001b[0m\n\u001b[1;32m   1255\u001b[0m         \u001b[0manswer\u001b[0m \u001b[0;34m=\u001b[0m \u001b[0mself\u001b[0m\u001b[0;34m.\u001b[0m\u001b[0mgateway_client\u001b[0m\u001b[0;34m.\u001b[0m\u001b[0msend_command\u001b[0m\u001b[0;34m(\u001b[0m\u001b[0mcommand\u001b[0m\u001b[0;34m)\u001b[0m\u001b[0;34m\u001b[0m\u001b[0;34m\u001b[0m\u001b[0m\n\u001b[1;32m   1256\u001b[0m         return_value = get_return_value(\n\u001b[0;32m-> 1257\u001b[0;31m             answer, self.gateway_client, self.target_id, self.name)\n\u001b[0m\u001b[1;32m   1258\u001b[0m \u001b[0;34m\u001b[0m\u001b[0m\n\u001b[1;32m   1259\u001b[0m         \u001b[0;32mfor\u001b[0m \u001b[0mtemp_arg\u001b[0m \u001b[0;32min\u001b[0m \u001b[0mtemp_args\u001b[0m\u001b[0;34m:\u001b[0m\u001b[0;34m\u001b[0m\u001b[0;34m\u001b[0m\u001b[0m\n",
      "\u001b[0;32m/cerebralcortex/kessel_jupyter_virtualenv/cc3_high_performance/lib/python3.6/site-packages/pyspark-3.0.0.dev0-py3.6.egg/pyspark/sql/utils.py\u001b[0m in \u001b[0;36mdeco\u001b[0;34m(*a, **kw)\u001b[0m\n\u001b[1;32m     96\u001b[0m     \u001b[0;32mdef\u001b[0m \u001b[0mdeco\u001b[0m\u001b[0;34m(\u001b[0m\u001b[0;34m*\u001b[0m\u001b[0ma\u001b[0m\u001b[0;34m,\u001b[0m \u001b[0;34m**\u001b[0m\u001b[0mkw\u001b[0m\u001b[0;34m)\u001b[0m\u001b[0;34m:\u001b[0m\u001b[0;34m\u001b[0m\u001b[0;34m\u001b[0m\u001b[0m\n\u001b[1;32m     97\u001b[0m         \u001b[0;32mtry\u001b[0m\u001b[0;34m:\u001b[0m\u001b[0;34m\u001b[0m\u001b[0;34m\u001b[0m\u001b[0m\n\u001b[0;32m---> 98\u001b[0;31m             \u001b[0;32mreturn\u001b[0m \u001b[0mf\u001b[0m\u001b[0;34m(\u001b[0m\u001b[0;34m*\u001b[0m\u001b[0ma\u001b[0m\u001b[0;34m,\u001b[0m \u001b[0;34m**\u001b[0m\u001b[0mkw\u001b[0m\u001b[0;34m)\u001b[0m\u001b[0;34m\u001b[0m\u001b[0;34m\u001b[0m\u001b[0m\n\u001b[0m\u001b[1;32m     99\u001b[0m         \u001b[0;32mexcept\u001b[0m \u001b[0mpy4j\u001b[0m\u001b[0;34m.\u001b[0m\u001b[0mprotocol\u001b[0m\u001b[0;34m.\u001b[0m\u001b[0mPy4JJavaError\u001b[0m \u001b[0;32mas\u001b[0m \u001b[0me\u001b[0m\u001b[0;34m:\u001b[0m\u001b[0;34m\u001b[0m\u001b[0;34m\u001b[0m\u001b[0m\n\u001b[1;32m    100\u001b[0m             \u001b[0mconverted\u001b[0m \u001b[0;34m=\u001b[0m \u001b[0mconvert_exception\u001b[0m\u001b[0;34m(\u001b[0m\u001b[0me\u001b[0m\u001b[0;34m.\u001b[0m\u001b[0mjava_exception\u001b[0m\u001b[0;34m)\u001b[0m\u001b[0;34m\u001b[0m\u001b[0;34m\u001b[0m\u001b[0m\n",
      "\u001b[0;32m/cerebralcortex/kessel_jupyter_virtualenv/cc3_high_performance/lib/python3.6/site-packages/py4j/protocol.py\u001b[0m in \u001b[0;36mget_return_value\u001b[0;34m(answer, gateway_client, target_id, name)\u001b[0m\n\u001b[1;32m    326\u001b[0m                 raise Py4JJavaError(\n\u001b[1;32m    327\u001b[0m                     \u001b[0;34m\"An error occurred while calling {0}{1}{2}.\\n\"\u001b[0m\u001b[0;34m.\u001b[0m\u001b[0;34m\u001b[0m\u001b[0;34m\u001b[0m\u001b[0m\n\u001b[0;32m--> 328\u001b[0;31m                     format(target_id, \".\", name), value)\n\u001b[0m\u001b[1;32m    329\u001b[0m             \u001b[0;32melse\u001b[0m\u001b[0;34m:\u001b[0m\u001b[0;34m\u001b[0m\u001b[0;34m\u001b[0m\u001b[0m\n\u001b[1;32m    330\u001b[0m                 raise Py4JError(\n",
      "\u001b[0;31mPy4JJavaError\u001b[0m: An error occurred while calling o209.collectToPython.\n: org.apache.spark.SparkException: Job aborted due to stage failure: Total size of serialized results of 196 tasks (1038.3 MiB) is bigger than spark.driver.maxResultSize (1024.0 MiB)\n\tat org.apache.spark.scheduler.DAGScheduler.failJobAndIndependentStages(DAGScheduler.scala:1979)\n\tat org.apache.spark.scheduler.DAGScheduler.$anonfun$abortStage$2(DAGScheduler.scala:1967)\n\tat org.apache.spark.scheduler.DAGScheduler.$anonfun$abortStage$2$adapted(DAGScheduler.scala:1966)\n\tat scala.collection.mutable.ResizableArray.foreach(ResizableArray.scala:62)\n\tat scala.collection.mutable.ResizableArray.foreach$(ResizableArray.scala:55)\n\tat scala.collection.mutable.ArrayBuffer.foreach(ArrayBuffer.scala:49)\n\tat org.apache.spark.scheduler.DAGScheduler.abortStage(DAGScheduler.scala:1966)\n\tat org.apache.spark.scheduler.DAGScheduler.$anonfun$handleTaskSetFailed$1(DAGScheduler.scala:946)\n\tat org.apache.spark.scheduler.DAGScheduler.$anonfun$handleTaskSetFailed$1$adapted(DAGScheduler.scala:946)\n\tat scala.Option.foreach(Option.scala:407)\n\tat org.apache.spark.scheduler.DAGScheduler.handleTaskSetFailed(DAGScheduler.scala:946)\n\tat org.apache.spark.scheduler.DAGSchedulerEventProcessLoop.doOnReceive(DAGScheduler.scala:2196)\n\tat org.apache.spark.scheduler.DAGSchedulerEventProcessLoop.onReceive(DAGScheduler.scala:2145)\n\tat org.apache.spark.scheduler.DAGSchedulerEventProcessLoop.onReceive(DAGScheduler.scala:2134)\n\tat org.apache.spark.util.EventLoop$$anon$1.run(EventLoop.scala:49)\n\tat org.apache.spark.scheduler.DAGScheduler.runJob(DAGScheduler.scala:748)\n\tat org.apache.spark.SparkContext.runJob(SparkContext.scala:2095)\n\tat org.apache.spark.SparkContext.runJob(SparkContext.scala:2116)\n\tat org.apache.spark.SparkContext.runJob(SparkContext.scala:2135)\n\tat org.apache.spark.SparkContext.runJob(SparkContext.scala:2160)\n\tat org.apache.spark.rdd.RDD.$anonfun$collect$1(RDD.scala:1004)\n\tat org.apache.spark.rdd.RDDOperationScope$.withScope(RDDOperationScope.scala:151)\n\tat org.apache.spark.rdd.RDDOperationScope$.withScope(RDDOperationScope.scala:112)\n\tat org.apache.spark.rdd.RDD.withScope(RDD.scala:388)\n\tat org.apache.spark.rdd.RDD.collect(RDD.scala:1003)\n\tat org.apache.spark.sql.execution.SparkPlan.executeCollect(SparkPlan.scala:381)\n\tat org.apache.spark.sql.Dataset.$anonfun$collectToPython$1(Dataset.scala:3245)\n\tat org.apache.spark.sql.Dataset.$anonfun$withAction$1(Dataset.scala:3407)\n\tat org.apache.spark.sql.execution.SQLExecution$.$anonfun$withNewExecutionId$4(SQLExecution.scala:100)\n\tat org.apache.spark.sql.execution.SQLExecution$.withSQLConfPropagated(SQLExecution.scala:160)\n\tat org.apache.spark.sql.execution.SQLExecution$.withNewExecutionId(SQLExecution.scala:87)\n\tat org.apache.spark.sql.Dataset.withAction(Dataset.scala:3403)\n\tat org.apache.spark.sql.Dataset.collectToPython(Dataset.scala:3242)\n\tat sun.reflect.NativeMethodAccessorImpl.invoke0(Native Method)\n\tat sun.reflect.NativeMethodAccessorImpl.invoke(NativeMethodAccessorImpl.java:62)\n\tat sun.reflect.DelegatingMethodAccessorImpl.invoke(DelegatingMethodAccessorImpl.java:43)\n\tat java.lang.reflect.Method.invoke(Method.java:498)\n\tat py4j.reflection.MethodInvoker.invoke(MethodInvoker.java:244)\n\tat py4j.reflection.ReflectionEngine.invoke(ReflectionEngine.java:357)\n\tat py4j.Gateway.invoke(Gateway.java:282)\n\tat py4j.commands.AbstractCommand.invokeMethod(AbstractCommand.java:132)\n\tat py4j.commands.CallCommand.execute(CallCommand.java:79)\n\tat py4j.GatewayConnection.run(GatewayConnection.java:238)\n\tat java.lang.Thread.run(Thread.java:748)\n"
     ]
    }
   ],
   "source": [
    "dt = test.collect()"
   ]
  },
  {
   "cell_type": "code",
   "execution_count": 17,
   "metadata": {},
   "outputs": [
    {
     "data": {
      "text/plain": [
       "2"
      ]
     },
     "execution_count": 17,
     "metadata": {},
     "output_type": "execute_result"
    }
   ],
   "source": [
    "2"
   ]
  },
  {
   "cell_type": "code",
   "execution_count": 16,
   "metadata": {},
   "outputs": [],
   "source": [
    "pdf = data.toPandas()"
   ]
  },
  {
   "cell_type": "code",
   "execution_count": null,
   "metadata": {},
   "outputs": [],
   "source": []
  },
  {
   "cell_type": "code",
   "execution_count": 19,
   "metadata": {},
   "outputs": [],
   "source": [
    "pdf2 = pdf[pdf['count']!=0]"
   ]
  },
  {
   "cell_type": "code",
   "execution_count": 30,
   "metadata": {},
   "outputs": [
    {
     "data": {
      "text/plain": [
       "[<matplotlib.lines.Line2D at 0x7fc13c999ef0>]"
      ]
     },
     "execution_count": 30,
     "metadata": {},
     "output_type": "execute_result"
    },
    {
     "data": {
      "image/png": "[encoded data removed]",
      "text/plain": [
       "<Figure size 432x288 with 1 Axes>"
      ]
     },
     "metadata": {
      "needs_background": "light"
     },
     "output_type": "display_data"
    }
   ],
   "source": [
    "kde = gaussian_kde(pdf2['count'])\n",
    "x_range = np.linspace(min(pdf2['count']), max(pdf2['count']), len(pdf2['count']))\n",
    "plt.plot(x_range, kde(x_range) )\n"
   ]
  },
  {
   "cell_type": "code",
   "execution_count": 33,
   "metadata": {},
   "outputs": [
    {
     "data": {
      "text/plain": [
       "60.48378376634318"
      ]
     },
     "execution_count": 33,
     "metadata": {},
     "output_type": "execute_result"
    }
   ],
   "source": [
    "pdf2['count'].std()"
   ]
  },
  {
   "cell_type": "code",
   "execution_count": 80,
   "metadata": {},
   "outputs": [],
   "source": [
    "pdf.to_csv(\"data/\"+user_id+\".csv\", index=False)"
   ]
  },
  {
   "cell_type": "code",
   "execution_count": 88,
   "metadata": {},
   "outputs": [],
   "source": [
    "pdf.to_csv('data/'+user_id+\".csv.gz\", compression='gzip')"
   ]
  },
  {
   "cell_type": "code",
   "execution_count": 82,
   "metadata": {},
   "outputs": [
    {
     "data": {
      "text/html": [
       "<div>\n",
       "<style scoped>\n",
       "    .dataframe tbody tr th:only-of-type {\n",
       "        vertical-align: middle;\n",
       "    }\n",
       "\n",
       "    .dataframe tbody tr th {\n",
       "        vertical-align: top;\n",
       "    }\n",
       "\n",
       "    .dataframe thead th {\n",
       "        text-align: right;\n",
       "    }\n",
       "</style>\n",
       "<table border=\"1\" class=\"dataframe\">\n",
       "  <thead>\n",
       "    <tr style=\"text-align: right;\">\n",
       "      <th></th>\n",
       "      <th>timestamp</th>\n",
       "      <th>data</th>\n",
       "    </tr>\n",
       "  </thead>\n",
       "  <tbody>\n",
       "    <tr>\n",
       "      <th>0</th>\n",
       "      <td>2017-12-15 05:58:40</td>\n",
       "      <td>[[-0.0728759765625, -0.072265625, -0.072631835...</td>\n",
       "    </tr>\n",
       "    <tr>\n",
       "      <th>1</th>\n",
       "      <td>2017-12-15 15:11:40</td>\n",
       "      <td>[[0.3101806640625, 0.325439453125, 0.315429687...</td>\n",
       "    </tr>\n",
       "    <tr>\n",
       "      <th>...</th>\n",
       "      <td>...</td>\n",
       "      <td>...</td>\n",
       "    </tr>\n",
       "    <tr>\n",
       "      <th>10798</th>\n",
       "      <td>2017-12-05 14:43:20</td>\n",
       "      <td>[[-0.563232421875, -0.57177734375, -0.61608886...</td>\n",
       "    </tr>\n",
       "    <tr>\n",
       "      <th>10799</th>\n",
       "      <td>2017-12-05 14:56:00</td>\n",
       "      <td>[[0.36474609375, 0.3912353515625, 0.3955078125...</td>\n",
       "    </tr>\n",
       "  </tbody>\n",
       "</table>\n",
       "<p>10800 rows × 2 columns</p>\n",
       "</div>"
      ],
      "text/plain": [
       "                 timestamp                                               data\n",
       "0      2017-12-15 05:58:40  [[-0.0728759765625, -0.072265625, -0.072631835...\n",
       "1      2017-12-15 15:11:40  [[0.3101806640625, 0.325439453125, 0.315429687...\n",
       "...                    ...                                                ...\n",
       "10798  2017-12-05 14:43:20  [[-0.563232421875, -0.57177734375, -0.61608886...\n",
       "10799  2017-12-05 14:56:00  [[0.36474609375, 0.3912353515625, 0.3955078125...\n",
       "\n",
       "[10800 rows x 2 columns]"
      ]
     },
     "execution_count": 82,
     "metadata": {},
     "output_type": "execute_result"
    }
   ],
   "source": [
    "pd.read_csv(\"data/\"+user_id+\".csv\")"
   ]
  },
  {
   "cell_type": "code",
   "execution_count": 130,
   "metadata": {},
   "outputs": [],
   "source": [
    "fake = [[datetime.now()]*1000, [[1]*5]*900+[[0.7]*5]*100, [[2]*5]*900+[[0.7]*5]*100, [[3]*5]*900+[[0.7]*5]*100, [[5]*5]*900+[[10]*5]*100,[[6]*5]*900+[[10]*5]*100, [[7]*5]*900+[[10]*5]*100]"
   ]
  },
  {
   "cell_type": "code",
   "execution_count": 131,
   "metadata": {},
   "outputs": [],
   "source": [
    "test_df = pd.DataFrame(data={'timestamp': fake[0], 'accelerometer_x': fake[1], 'accelerometer_y': fake[2], 'accelerometer_z': fake[3], 'gyroscope_x': fake[4], 'gyroscope_y': fake[5], 'gyroscope_z': fake[6]})"
   ]
  },
  {
   "cell_type": "code",
   "execution_count": 132,
   "metadata": {},
   "outputs": [
    {
     "data": {
      "text/html": [
       "<div>\n",
       "<style scoped>\n",
       "    .dataframe tbody tr th:only-of-type {\n",
       "        vertical-align: middle;\n",
       "    }\n",
       "\n",
       "    .dataframe tbody tr th {\n",
       "        vertical-align: top;\n",
       "    }\n",
       "\n",
       "    .dataframe thead th {\n",
       "        text-align: right;\n",
       "    }\n",
       "</style>\n",
       "<table border=\"1\" class=\"dataframe\">\n",
       "  <thead>\n",
       "    <tr style=\"text-align: right;\">\n",
       "      <th></th>\n",
       "      <th>timestamp</th>\n",
       "      <th>accelerometer_x</th>\n",
       "      <th>accelerometer_y</th>\n",
       "      <th>accelerometer_z</th>\n",
       "      <th>gyroscope_x</th>\n",
       "      <th>gyroscope_y</th>\n",
       "      <th>gyroscope_z</th>\n",
       "    </tr>\n",
       "  </thead>\n",
       "  <tbody>\n",
       "    <tr>\n",
       "      <th>0</th>\n",
       "      <td>2019-12-10 04:22:07.164561</td>\n",
       "      <td>[1, 1, 1, 1, 1]</td>\n",
       "      <td>[2, 2, 2, 2, 2]</td>\n",
       "      <td>[3, 3, 3, 3, 3]</td>\n",
       "      <td>[5, 5, 5, 5, 5]</td>\n",
       "      <td>[6, 6, 6, 6, 6]</td>\n",
       "      <td>[7, 7, 7, 7, 7]</td>\n",
       "    </tr>\n",
       "    <tr>\n",
       "      <th>1</th>\n",
       "      <td>2019-12-10 04:22:07.164561</td>\n",
       "      <td>[1, 1, 1, 1, 1]</td>\n",
       "      <td>[2, 2, 2, 2, 2]</td>\n",
       "      <td>[3, 3, 3, 3, 3]</td>\n",
       "      <td>[5, 5, 5, 5, 5]</td>\n",
       "      <td>[6, 6, 6, 6, 6]</td>\n",
       "      <td>[7, 7, 7, 7, 7]</td>\n",
       "    </tr>\n",
       "    <tr>\n",
       "      <th>...</th>\n",
       "      <td>...</td>\n",
       "      <td>...</td>\n",
       "      <td>...</td>\n",
       "      <td>...</td>\n",
       "      <td>...</td>\n",
       "      <td>...</td>\n",
       "      <td>...</td>\n",
       "    </tr>\n",
       "    <tr>\n",
       "      <th>998</th>\n",
       "      <td>2019-12-10 04:22:07.164561</td>\n",
       "      <td>[0.7, 0.7, 0.7, 0.7, 0.7]</td>\n",
       "      <td>[0.7, 0.7, 0.7, 0.7, 0.7]</td>\n",
       "      <td>[0.7, 0.7, 0.7, 0.7, 0.7]</td>\n",
       "      <td>[10, 10, 10, 10, 10]</td>\n",
       "      <td>[10, 10, 10, 10, 10]</td>\n",
       "      <td>[10, 10, 10, 10, 10]</td>\n",
       "    </tr>\n",
       "    <tr>\n",
       "      <th>999</th>\n",
       "      <td>2019-12-10 04:22:07.164561</td>\n",
       "      <td>[0.7, 0.7, 0.7, 0.7, 0.7]</td>\n",
       "      <td>[0.7, 0.7, 0.7, 0.7, 0.7]</td>\n",
       "      <td>[0.7, 0.7, 0.7, 0.7, 0.7]</td>\n",
       "      <td>[10, 10, 10, 10, 10]</td>\n",
       "      <td>[10, 10, 10, 10, 10]</td>\n",
       "      <td>[10, 10, 10, 10, 10]</td>\n",
       "    </tr>\n",
       "  </tbody>\n",
       "</table>\n",
       "<p>1000 rows × 7 columns</p>\n",
       "</div>"
      ],
      "text/plain": [
       "                     timestamp            accelerometer_x  \\\n",
       "0   2019-12-10 04:22:07.164561            [1, 1, 1, 1, 1]   \n",
       "1   2019-12-10 04:22:07.164561            [1, 1, 1, 1, 1]   \n",
       "..                         ...                        ...   \n",
       "998 2019-12-10 04:22:07.164561  [0.7, 0.7, 0.7, 0.7, 0.7]   \n",
       "999 2019-12-10 04:22:07.164561  [0.7, 0.7, 0.7, 0.7, 0.7]   \n",
       "\n",
       "               accelerometer_y            accelerometer_z  \\\n",
       "0              [2, 2, 2, 2, 2]            [3, 3, 3, 3, 3]   \n",
       "1              [2, 2, 2, 2, 2]            [3, 3, 3, 3, 3]   \n",
       "..                         ...                        ...   \n",
       "998  [0.7, 0.7, 0.7, 0.7, 0.7]  [0.7, 0.7, 0.7, 0.7, 0.7]   \n",
       "999  [0.7, 0.7, 0.7, 0.7, 0.7]  [0.7, 0.7, 0.7, 0.7, 0.7]   \n",
       "\n",
       "              gyroscope_x           gyroscope_y           gyroscope_z  \n",
       "0         [5, 5, 5, 5, 5]       [6, 6, 6, 6, 6]       [7, 7, 7, 7, 7]  \n",
       "1         [5, 5, 5, 5, 5]       [6, 6, 6, 6, 6]       [7, 7, 7, 7, 7]  \n",
       "..                    ...                   ...                   ...  \n",
       "998  [10, 10, 10, 10, 10]  [10, 10, 10, 10, 10]  [10, 10, 10, 10, 10]  \n",
       "999  [10, 10, 10, 10, 10]  [10, 10, 10, 10, 10]  [10, 10, 10, 10, 10]  \n",
       "\n",
       "[1000 rows x 7 columns]"
      ]
     },
     "execution_count": 132,
     "metadata": {},
     "output_type": "execute_result"
    }
   ],
   "source": [
    "test_df"
   ]
  },
  {
   "cell_type": "code",
   "execution_count": 133,
   "metadata": {},
   "outputs": [],
   "source": [
    "# schema = StructType([StructField(\"timestamp\", TimestampType()), StructField(\"accel\", ArrayType(ArrayType(DoubleType()))), StructField(\"gyro\", ArrayType(ArrayType(DoubleType())))])\n",
    "# schema = StructType([StructField(\"timestamp\", TimestampType()), StructField(\"data\", IntegerType())])\n",
    "# @F.pandas_udf(schema, F.PandasUDFType.GROUPED_MAP)\n",
    "def get_data_test(user_data):\n",
    "    is_movement = []\n",
    "    correct_data = []\n",
    "    for index, row in user_data.iterrows():\n",
    "        al = len(row['accelerometer_x'])\n",
    "        gl = len(row['gyroscope_x'])\n",
    "#         if al<300:  # 25 * 20 * 60% (frequency * window_size * threshold%)\n",
    "#             is_movement.append(0)\n",
    "#             correct_data.append(1)\n",
    "#             continue\n",
    "    \n",
    "        accel_data = np.array([*row['accelerometer_x'], *row['accelerometer_y'], *row['accelerometer_z']])\n",
    "        \n",
    "        accel_data = accel_data.reshape(-1, al)\n",
    "        accel_data = accel_data.T\n",
    "        if not is_correct_accel_data(accel_data):\n",
    "            ax = 2*np.array(row['accelerometer_x']).tolist()\n",
    "            ay = 2*np.array(row['accelerometer_y']).tolist()\n",
    "            az = 2*np.array(row['accelerometer_z']).tolist()\n",
    "            accel_data = np.array([*ax, *ay, *az])\n",
    "            accel_data = accel_data.reshape(-1, al)\n",
    "            accel_data = accel_data.T\n",
    "            correct_data.append(0)\n",
    "        else:\n",
    "            correct_data.append(1)\n",
    "        mg = [np.linalg.norm(x) for x in accel_data]\n",
    "        sd= np.std(mg)\n",
    "        if sd >= 0:\n",
    "            is_movement.append(1)\n",
    "        else:\n",
    "            is_movement.append(0)\n",
    "    user_data['is_movement'] = is_movement\n",
    "    user_data['correct'] = correct_data\n",
    "    data_movement = user_data[user_data['is_movement']==1]\n",
    "#     if len(data_movement.index) < 900:\n",
    "#         return pd.DataFrame([], columns=['timestamp', 'data'])\n",
    "#     leap = int(np.floor(len(data_movement.index) / 900))\n",
    "    leap = 1\n",
    "    ts = []\n",
    "    adt = []\n",
    "    gdt = []\n",
    "    for i in range(0, len(data_movement.index), leap):\n",
    "        row = data_movement.iloc[i]\n",
    "        al = len(row['accelerometer_x'])\n",
    "        gl = len(row['gyroscope_x'])\n",
    "        ts.append(row['timestamp'])\n",
    "        if row['correct']==1:\n",
    "            accel_data = np.array([*row['accelerometer_x'], *row['accelerometer_y'], *row['accelerometer_z']])\n",
    "        else:\n",
    "            ax = 2*np.array(row['accelerometer_x']).tolist()\n",
    "            ay = 2*np.array(row['accelerometer_y']).tolist()\n",
    "            az = 2*np.array(row['accelerometer_z']).tolist()\n",
    "            accel_data = np.array([*ax, *ay, *az])\n",
    "                                   \n",
    "        gyro_data = np.array([*row['gyroscope_x'], *row['gyroscope_y'], *row['gyroscope_z']])\n",
    "        accel_data = accel_data.reshape(-1, al)\n",
    "        gyro_data = gyro_data.reshape(-1, gl)\n",
    "        accel_data = accel_data.T\n",
    "        gyro_data = gyro_data.T\n",
    "        \n",
    "        adt.append(accel_data.tolist())\n",
    "        gdt.append(gyro_data.tolist())\n",
    "        if len(ts)>=900:\n",
    "            break\n",
    "    return pd.DataFrame(data={'timestamp': ts, 'accel': adt, 'gyro': gdt})"
   ]
  },
  {
   "cell_type": "code",
   "execution_count": 134,
   "metadata": {},
   "outputs": [
    {
     "data": {
      "text/html": [
       "<div>\n",
       "<style scoped>\n",
       "    .dataframe tbody tr th:only-of-type {\n",
       "        vertical-align: middle;\n",
       "    }\n",
       "\n",
       "    .dataframe tbody tr th {\n",
       "        vertical-align: top;\n",
       "    }\n",
       "\n",
       "    .dataframe thead th {\n",
       "        text-align: right;\n",
       "    }\n",
       "</style>\n",
       "<table border=\"1\" class=\"dataframe\">\n",
       "  <thead>\n",
       "    <tr style=\"text-align: right;\">\n",
       "      <th></th>\n",
       "      <th>timestamp</th>\n",
       "      <th>accel</th>\n",
       "      <th>gyro</th>\n",
       "    </tr>\n",
       "  </thead>\n",
       "  <tbody>\n",
       "    <tr>\n",
       "      <th>0</th>\n",
       "      <td>2019-12-10 04:22:07.164561</td>\n",
       "      <td>[[1, 2, 3], [1, 2, 3], [1, 2, 3], [1, 2, 3], [...</td>\n",
       "      <td>[[5, 6, 7], [5, 6, 7], [5, 6, 7], [5, 6, 7], [...</td>\n",
       "    </tr>\n",
       "    <tr>\n",
       "      <th>1</th>\n",
       "      <td>2019-12-10 04:22:07.164561</td>\n",
       "      <td>[[1, 2, 3], [1, 2, 3], [1, 2, 3], [1, 2, 3], [...</td>\n",
       "      <td>[[5, 6, 7], [5, 6, 7], [5, 6, 7], [5, 6, 7], [...</td>\n",
       "    </tr>\n",
       "    <tr>\n",
       "      <th>...</th>\n",
       "      <td>...</td>\n",
       "      <td>...</td>\n",
       "      <td>...</td>\n",
       "    </tr>\n",
       "    <tr>\n",
       "      <th>898</th>\n",
       "      <td>2019-12-10 04:22:07.164561</td>\n",
       "      <td>[[1, 2, 3], [1, 2, 3], [1, 2, 3], [1, 2, 3], [...</td>\n",
       "      <td>[[5, 6, 7], [5, 6, 7], [5, 6, 7], [5, 6, 7], [...</td>\n",
       "    </tr>\n",
       "    <tr>\n",
       "      <th>899</th>\n",
       "      <td>2019-12-10 04:22:07.164561</td>\n",
       "      <td>[[1, 2, 3], [1, 2, 3], [1, 2, 3], [1, 2, 3], [...</td>\n",
       "      <td>[[5, 6, 7], [5, 6, 7], [5, 6, 7], [5, 6, 7], [...</td>\n",
       "    </tr>\n",
       "  </tbody>\n",
       "</table>\n",
       "<p>900 rows × 3 columns</p>\n",
       "</div>"
      ],
      "text/plain": [
       "                     timestamp  \\\n",
       "0   2019-12-10 04:22:07.164561   \n",
       "1   2019-12-10 04:22:07.164561   \n",
       "..                         ...   \n",
       "898 2019-12-10 04:22:07.164561   \n",
       "899 2019-12-10 04:22:07.164561   \n",
       "\n",
       "                                                 accel  \\\n",
       "0    [[1, 2, 3], [1, 2, 3], [1, 2, 3], [1, 2, 3], [...   \n",
       "1    [[1, 2, 3], [1, 2, 3], [1, 2, 3], [1, 2, 3], [...   \n",
       "..                                                 ...   \n",
       "898  [[1, 2, 3], [1, 2, 3], [1, 2, 3], [1, 2, 3], [...   \n",
       "899  [[1, 2, 3], [1, 2, 3], [1, 2, 3], [1, 2, 3], [...   \n",
       "\n",
       "                                                  gyro  \n",
       "0    [[5, 6, 7], [5, 6, 7], [5, 6, 7], [5, 6, 7], [...  \n",
       "1    [[5, 6, 7], [5, 6, 7], [5, 6, 7], [5, 6, 7], [...  \n",
       "..                                                 ...  \n",
       "898  [[5, 6, 7], [5, 6, 7], [5, 6, 7], [5, 6, 7], [...  \n",
       "899  [[5, 6, 7], [5, 6, 7], [5, 6, 7], [5, 6, 7], [...  \n",
       "\n",
       "[900 rows x 3 columns]"
      ]
     },
     "execution_count": 134,
     "metadata": {},
     "output_type": "execute_result"
    }
   ],
   "source": [
    "get_data_test(test_df)"
   ]
  },
  {
   "cell_type": "code",
   "execution_count": null,
   "metadata": {},
   "outputs": [],
   "source": [
    "fake[4]"
   ]
  },
  {
   "cell_type": "code",
   "execution_count": null,
   "metadata": {},
   "outputs": [],
   "source": [
    "1"
   ]
  },
  {
   "cell_type": "code",
   "execution_count": 41,
   "metadata": {},
   "outputs": [],
   "source": [
    "ax = [-0.0740966796875, -0.07373046875, -0.0733642578125, -0.07421875, -0.07373046875, -0.0738525390625, -0.0743408203125, -0.07421875, -0.0731201171875, -0.0731201171875, -0.0743408203125, -0.073974609375, -0.07373046875, -0.0732421875, -0.0745849609375, -0.0743408203125, -0.0740966796875, -0.073974609375, -0.07373046875, -0.07421875, -0.0726318359375, -0.074951171875, -0.0740966796875, -0.0751953125, -0.073974609375, -0.073974609375, -0.07421875, -0.073974609375, -0.0738525390625, -0.0731201171875, -0.074462890625, -0.0733642578125, -0.07373046875, -0.0738525390625, -0.0733642578125, -0.07373046875, -0.0740966796875, -0.073974609375, -0.0745849609375, -0.0740966796875, -0.0743408203125, -0.0738525390625, -0.074462890625, -0.0736083984375, -0.0736083984375, -0.0738525390625, -0.07568359375, -0.0736083984375, -0.0728759765625, -0.0743408203125, -0.074462890625, -0.07470703125, -0.07373046875, -0.0731201171875, -0.074462890625, -0.0738525390625, -0.07373046875, -0.0736083984375, -0.074462890625, -0.0728759765625, -0.0748291015625, -0.07373046875, -0.073486328125, -0.073974609375, -0.0748291015625, -0.0743408203125, -0.0750732421875, -0.073486328125, -0.0733642578125, -0.0738525390625, -0.072509765625, -0.073486328125, -0.0732421875, -0.0745849609375, -0.0733642578125, -0.072509765625, -0.0745849609375, -0.07470703125, -0.0736083984375, -0.074462890625, -0.07373046875, -0.0738525390625, -0.073486328125, -0.0748291015625, -0.07373046875, -0.0732421875, -0.0743408203125, -0.074462890625, -0.075439453125, -0.0743408203125, -0.073974609375, -0.0748291015625, -0.073486328125, -0.07421875, -0.07421875, -0.07421875, -0.074951171875, -0.074462890625, -0.073974609375, -0.0745849609375, -0.073486328125, -0.07421875, -0.07421875, -0.073974609375, -0.0738525390625, -0.07373046875, -0.074462890625, -0.073486328125, -0.0732421875, -0.07275390625, -0.0738525390625, -0.0740966796875, -0.0740966796875, -0.0738525390625, -0.0745849609375, -0.0740966796875, -0.0736083984375, -0.07373046875, -0.074951171875, -0.07373046875, -0.0736083984375, -0.0745849609375, -0.0743408203125, -0.0738525390625, -0.0743408203125, -0.0740966796875, -0.073486328125, -0.07373046875, -0.0733642578125, -0.0738525390625, -0.0743408203125, -0.0733642578125, -0.073486328125, -0.074951171875, -0.0733642578125, -0.074462890625, -0.073486328125, -0.073486328125, -0.074462890625, -0.0736083984375, -0.07421875, -0.073974609375, -0.074462890625, -0.074462890625, -0.073974609375, -0.0733642578125, -0.0748291015625, -0.07421875, -0.074951171875, -0.07275390625, -0.0740966796875, -0.0743408203125, -0.07470703125, -0.0740966796875, -0.074462890625, -0.0740966796875, -0.073974609375, -0.0733642578125, -0.07470703125, -0.074462890625, -0.0738525390625, -0.0740966796875, -0.0733642578125, -0.07421875, -0.0732421875, -0.074462890625, -0.0748291015625, -0.07470703125, -0.0745849609375, -0.0736083984375, -0.07421875, -0.07421875, -0.074462890625, -0.07470703125, -0.0738525390625, -0.0751953125, -0.07373046875, -0.07421875, -0.0745849609375, -0.0736083984375, -0.0748291015625, -0.073974609375, -0.074462890625, -0.0732421875, -0.0738525390625, -0.0740966796875, -0.0733642578125, -0.07373046875, -0.0740966796875, -0.07373046875, -0.0736083984375, -0.0745849609375, -0.074462890625, -0.0736083984375, -0.07421875, -0.0740966796875, -0.0743408203125, -0.07373046875, -0.0736083984375, -0.073974609375, -0.0740966796875, -0.07373046875, -0.0738525390625, -0.0740966796875, -0.0731201171875, -0.0736083984375, -0.073974609375, -0.0745849609375, -0.0738525390625, -0.074951171875, -0.07373046875, -0.0738525390625, -0.0736083984375, -0.0748291015625, -0.073974609375, -0.07421875, -0.073486328125, -0.0745849609375, -0.074462890625, -0.073486328125, -0.07373046875, -0.073486328125, -0.0738525390625, -0.0736083984375, -0.0732421875, -0.0736083984375, -0.0751953125, -0.0743408203125, -0.0740966796875, -0.0736083984375, -0.07373046875, -0.073974609375, -0.07470703125, -0.0753173828125, -0.073974609375, -0.0740966796875, -0.0738525390625, -0.0740966796875, -0.0743408203125, -0.074951171875, -0.0745849609375, -0.074462890625, -0.0728759765625, -0.07421875, -0.0745849609375, -0.072998046875, -0.0738525390625, -0.073974609375, -0.07421875, -0.07373046875, -0.0743408203125, -0.074462890625, -0.073974609375, -0.0740966796875, -0.0745849609375, -0.07421875, -0.0728759765625, -0.073974609375, -0.073974609375, -0.0748291015625, -0.074462890625, -0.074951171875, -0.07470703125, -0.0748291015625, -0.074462890625, -0.074462890625, -0.0732421875, -0.0743408203125, -0.0738525390625, -0.073974609375, -0.0750732421875, -0.0750732421875, -0.0728759765625, -0.0738525390625, -0.0738525390625, -0.0745849609375, -0.0743408203125, -0.07470703125, -0.07470703125, -0.073974609375, -0.0750732421875, -0.073974609375, -0.074951171875, -0.072509765625, -0.0743408203125, -0.0740966796875, -0.07421875, -0.0738525390625, -0.0736083984375, -0.073486328125, -0.07373046875, -0.074462890625, -0.07421875, -0.07421875, -0.073486328125, -0.074462890625, -0.074462890625, -0.073486328125, -0.073974609375, -0.072998046875, -0.0748291015625, -0.0733642578125, -0.0736083984375, -0.0732421875, -0.07373046875, -0.07373046875, -0.0736083984375, -0.074462890625, -0.0736083984375, -0.0743408203125, -0.073974609375, -0.0740966796875, -0.07373046875, -0.07373046875, -0.0733642578125, -0.07421875, -0.073974609375, -0.0743408203125, -0.07421875, -0.0736083984375, -0.07421875, -0.0736083984375, -0.0743408203125, -0.07421875, -0.073974609375, -0.074951171875, -0.07373046875, -0.0740966796875, -0.0738525390625, -0.0732421875, -0.0736083984375, -0.0743408203125, -0.0736083984375, -0.073974609375, -0.074462890625, -0.0748291015625, -0.073974609375, -0.07470703125, -0.0738525390625, -0.074951171875, -0.074462890625, -0.0731201171875, -0.0740966796875, -0.0736083984375, -0.07373046875, -0.073974609375, -0.0731201171875, -0.0728759765625, -0.0736083984375, -0.07421875, -0.07373046875, -0.073486328125, -0.074462890625, -0.0731201171875, -0.0740966796875, -0.0743408203125, -0.074462890625, -0.073974609375, -0.0743408203125, -0.073974609375, -0.07373046875, -0.072998046875, -0.07421875, -0.0733642578125, -0.07373046875, -0.0743408203125, -0.0736083984375, -0.0732421875, -0.0745849609375, -0.073486328125, -0.0733642578125, -0.0733642578125, -0.0745849609375, -0.074462890625, -0.0733642578125, -0.07373046875, -0.0738525390625, -0.07373046875, -0.073486328125, -0.0733642578125, -0.07373046875, -0.07470703125, -0.07421875, -0.072509765625, -0.073486328125, -0.073974609375, -0.0740966796875, -0.0738525390625, -0.0740966796875, -0.0740966796875, -0.0740966796875, -0.073486328125, -0.07421875, -0.0736083984375, -0.07421875, -0.07421875, -0.0743408203125, -0.073974609375, -0.0738525390625, -0.0733642578125, -0.0743408203125, -0.0740966796875, -0.0740966796875, -0.0743408203125, -0.07470703125, -0.073486328125, -0.07421875, -0.0733642578125, -0.0731201171875, -0.0738525390625, -0.07470703125, -0.0743408203125, -0.0738525390625, -0.0738525390625, -0.07421875, -0.0736083984375, -0.074462890625, -0.073974609375, -0.07421875, -0.0743408203125, -0.0740966796875, -0.0745849609375, -0.0745849609375, -0.074462890625, -0.0731201171875, -0.07373046875, -0.0745849609375, -0.07421875, -0.0732421875, -0.0736083984375, -0.0732421875, -0.073974609375, -0.0738525390625, -0.073974609375, -0.0732421875, -0.07373046875, -0.0743408203125, -0.0748291015625, -0.07470703125, -0.073486328125, -0.0731201171875, -0.0733642578125, -0.07373046875, -0.0743408203125, -0.0736083984375, -0.0732421875, -0.07373046875, -0.0732421875, -0.07373046875, -0.0738525390625, -0.0731201171875, -0.0738525390625, -0.073486328125, -0.0738525390625, -0.073974609375, -0.0731201171875, -0.072998046875, -0.0740966796875, -0.0733642578125, -0.0738525390625, -0.0736083984375, -0.0740966796875, -0.07373046875, -0.073974609375, -0.0743408203125, -0.0740966796875, -0.072998046875, -0.07470703125, -0.0731201171875, -0.07373046875, -0.07373046875, -0.0736083984375, -0.0743408203125, -0.074951171875, -0.0738525390625, -0.07421875, -0.074462890625, -0.0740966796875, -0.0745849609375, -0.07470703125, -0.074462890625, -0.07421875, -0.0740966796875, -0.073974609375, -0.0743408203125, -0.073974609375, -0.0736083984375, -0.0740966796875, -0.073486328125, -0.0738525390625, -0.073974609375, -0.0738525390625, -0.07421875, -0.0733642578125, -0.074462890625, -0.074462890625, -0.0748291015625, -0.0743408203125, -0.0745849609375, -0.0743408203125]"
   ]
  },
  {
   "cell_type": "code",
   "execution_count": 40,
   "metadata": {},
   "outputs": [],
   "source": [
    "ay = [0.501220703125, 0.50244140625, 0.501953125, 0.501953125, 0.50146484375, 0.5018310546875, 0.501708984375, 0.5018310546875, 0.5020751953125, 0.5018310546875, 0.50146484375, 0.50146484375, 0.50244140625, 0.502685546875, 0.50244140625, 0.502197265625, 0.5015869140625, 0.501220703125, 0.5015869140625, 0.502197265625, 0.501220703125, 0.501220703125, 0.5015869140625, 0.502685546875, 0.501708984375, 0.501708984375, 0.5013427734375, 0.5020751953125, 0.502197265625, 0.502197265625, 0.5013427734375, 0.5009765625, 0.50146484375, 0.50244140625, 0.50048828125, 0.5025634765625, 0.50146484375, 0.5015869140625, 0.50244140625, 0.501708984375, 0.501953125, 0.50244140625, 0.5015869140625, 0.501220703125, 0.5009765625, 0.501953125, 0.5020751953125, 0.5030517578125, 0.50341796875, 0.5028076171875, 0.502197265625, 0.5020751953125, 0.5025634765625, 0.5015869140625, 0.5032958984375, 0.501953125, 0.503173828125, 0.5009765625, 0.503173828125, 0.50146484375, 0.5023193359375, 0.50244140625, 0.5008544921875, 0.501708984375, 0.501708984375, 0.501708984375, 0.50146484375, 0.501953125, 0.5020751953125, 0.50244140625, 0.5025634765625, 0.502197265625, 0.5010986328125, 0.50244140625, 0.501220703125, 0.5035400390625, 0.5020751953125, 0.50244140625, 0.5030517578125, 0.5023193359375, 0.502685546875, 0.5025634765625, 0.501953125, 0.502685546875, 0.5020751953125, 0.5018310546875, 0.5025634765625, 0.501953125, 0.50244140625, 0.5023193359375, 0.5006103515625, 0.5018310546875, 0.5023193359375, 0.50146484375, 0.501953125, 0.502197265625, 0.502197265625, 0.5023193359375, 0.501708984375, 0.502685546875, 0.502197265625, 0.5025634765625, 0.5025634765625, 0.5018310546875, 0.5020751953125, 0.50244140625, 0.501708984375, 0.50244140625, 0.502197265625, 0.5018310546875, 0.5025634765625, 0.5015869140625, 0.50244140625, 0.5025634765625, 0.5013427734375, 0.502197265625, 0.501708984375, 0.501220703125, 0.50146484375, 0.5020751953125, 0.5015869140625, 0.501953125, 0.5020751953125, 0.50146484375, 0.5018310546875, 0.5018310546875, 0.5018310546875, 0.5023193359375, 0.501220703125, 0.5023193359375, 0.5015869140625, 0.50146484375, 0.5020751953125, 0.5030517578125, 0.5025634765625, 0.5013427734375, 0.5015869140625, 0.5013427734375, 0.50244140625, 0.5028076171875, 0.50244140625, 0.5023193359375, 0.501708984375, 0.501708984375, 0.501708984375, 0.50146484375, 0.501953125, 0.502197265625, 0.501708984375, 0.501953125, 0.5010986328125, 0.5020751953125, 0.5030517578125, 0.50244140625, 0.5018310546875, 0.502197265625, 0.501220703125, 0.502197265625, 0.501953125, 0.501953125, 0.501953125, 0.50244140625, 0.5020751953125, 0.5023193359375, 0.5025634765625, 0.5020751953125, 0.502685546875, 0.5006103515625, 0.502197265625, 0.50244140625, 0.501708984375, 0.50244140625, 0.5030517578125, 0.5030517578125, 0.5025634765625, 0.5023193359375, 0.5018310546875, 0.5010986328125, 0.5029296875, 0.50244140625, 0.5020751953125, 0.502197265625, 0.501708984375, 0.5025634765625, 0.5029296875, 0.501708984375, 0.50244140625, 0.501708984375, 0.5028076171875, 0.5018310546875, 0.5023193359375, 0.5029296875, 0.501708984375, 0.5015869140625, 0.5013427734375, 0.5013427734375, 0.5018310546875, 0.5013427734375, 0.5013427734375, 0.501708984375, 0.5020751953125, 0.5023193359375, 0.5028076171875, 0.50244140625, 0.5018310546875, 0.50146484375, 0.502685546875, 0.501953125, 0.501708984375, 0.501708984375, 0.502685546875, 0.50146484375, 0.5025634765625, 0.5013427734375, 0.50244140625, 0.50244140625, 0.501953125, 0.50244140625, 0.5020751953125, 0.5028076171875, 0.5020751953125, 0.502685546875, 0.5025634765625, 0.5023193359375, 0.5023193359375, 0.502197265625, 0.5023193359375, 0.5010986328125, 0.502197265625, 0.502197265625, 0.501953125, 0.5009765625, 0.5013427734375, 0.5018310546875, 0.5020751953125, 0.50146484375, 0.50146484375, 0.5018310546875, 0.50146484375, 0.501708984375, 0.502197265625, 0.502197265625, 0.5018310546875, 0.50244140625, 0.501953125, 0.5015869140625, 0.5015869140625, 0.5015869140625, 0.50244140625, 0.500732421875, 0.502685546875, 0.501708984375, 0.501953125, 0.50244140625, 0.502197265625, 0.5023193359375, 0.501708984375, 0.5018310546875, 0.5008544921875, 0.502197265625, 0.5020751953125, 0.5025634765625, 0.5025634765625, 0.50146484375, 0.5013427734375, 0.5015869140625, 0.5025634765625, 0.50146484375, 0.501953125, 0.5006103515625, 0.501220703125, 0.5020751953125, 0.5006103515625, 0.5018310546875, 0.5020751953125, 0.5018310546875, 0.5018310546875, 0.5023193359375, 0.5015869140625, 0.5032958984375, 0.50244140625, 0.501953125, 0.501220703125, 0.501708984375, 0.501220703125, 0.502685546875, 0.502197265625, 0.5025634765625, 0.5020751953125, 0.5020751953125, 0.5020751953125, 0.501953125, 0.501708984375, 0.50146484375, 0.501708984375, 0.502197265625, 0.502197265625, 0.5010986328125, 0.5023193359375, 0.5018310546875, 0.5006103515625, 0.5013427734375, 0.5028076171875, 0.5023193359375, 0.5018310546875, 0.5018310546875, 0.5028076171875, 0.502197265625, 0.50146484375, 0.50048828125, 0.501953125, 0.5028076171875, 0.5020751953125, 0.50146484375, 0.502685546875, 0.5023193359375, 0.501953125, 0.5023193359375, 0.5015869140625, 0.501953125, 0.5023193359375, 0.50146484375, 0.50146484375, 0.501220703125, 0.5015869140625, 0.5023193359375, 0.5015869140625, 0.5018310546875, 0.50244140625, 0.502685546875, 0.5023193359375, 0.50146484375, 0.5023193359375, 0.5025634765625, 0.501953125, 0.5008544921875, 0.501708984375, 0.5018310546875, 0.50146484375, 0.5018310546875, 0.501708984375, 0.50244140625, 0.501953125, 0.5003662109375, 0.5013427734375, 0.5008544921875, 0.5018310546875, 0.5015869140625, 0.502197265625, 0.5023193359375, 0.501708984375, 0.5015869140625, 0.501708984375, 0.5025634765625, 0.50244140625, 0.5023193359375, 0.501708984375, 0.501953125, 0.5020751953125, 0.5018310546875, 0.5018310546875, 0.501220703125, 0.502685546875, 0.502197265625, 0.501708984375, 0.501708984375, 0.5029296875, 0.501220703125, 0.50244140625, 0.5013427734375, 0.5020751953125, 0.501708984375, 0.5018310546875, 0.5013427734375, 0.50146484375, 0.5009765625, 0.5023193359375, 0.502685546875, 0.5025634765625, 0.5018310546875, 0.501953125, 0.5030517578125, 0.5013427734375, 0.5023193359375, 0.5023193359375, 0.501708984375, 0.50146484375, 0.5020751953125, 0.502197265625, 0.501953125, 0.50244140625, 0.5018310546875, 0.50146484375, 0.5010986328125, 0.5001220703125, 0.5001220703125, 0.5018310546875, 0.5020751953125, 0.5023193359375, 0.501708984375, 0.502197265625, 0.5020751953125, 0.502685546875, 0.50146484375, 0.501708984375, 0.5020751953125, 0.5015869140625, 0.500732421875, 0.5018310546875, 0.5023193359375, 0.501708984375, 0.5028076171875, 0.50244140625, 0.5018310546875, 0.502685546875, 0.5025634765625, 0.5020751953125, 0.5023193359375, 0.5020751953125, 0.5020751953125, 0.5008544921875, 0.5029296875, 0.5018310546875, 0.501953125, 0.501953125, 0.50146484375, 0.5020751953125, 0.5003662109375, 0.5009765625, 0.501220703125, 0.501953125, 0.5023193359375, 0.5018310546875, 0.502197265625, 0.502197265625, 0.5025634765625, 0.501953125, 0.501220703125, 0.501708984375, 0.5028076171875, 0.5015869140625, 0.501708984375, 0.500732421875, 0.5013427734375, 0.50146484375, 0.5006103515625, 0.50244140625, 0.50244140625, 0.501953125, 0.50244140625, 0.5028076171875, 0.501953125, 0.501953125, 0.50146484375, 0.502197265625, 0.5018310546875, 0.5025634765625, 0.5015869140625, 0.5020751953125, 0.50146484375, 0.502197265625, 0.5020751953125, 0.50244140625, 0.501953125, 0.501953125, 0.5032958984375, 0.5015869140625, 0.50244140625, 0.5018310546875, 0.501708984375, 0.5008544921875, 0.502685546875, 0.5020751953125, 0.5008544921875, 0.5015869140625, 0.5013427734375, 0.501708984375, 0.501953125, 0.5013427734375, 0.5029296875, 0.5015869140625, 0.5025634765625, 0.502685546875, 0.501708984375, 0.501953125, 0.5018310546875, 0.502197265625, 0.503173828125, 0.5018310546875, 0.50244140625, 0.5023193359375, 0.5025634765625, 0.50244140625, 0.5015869140625, 0.502685546875, 0.5020751953125, 0.5013427734375, 0.5029296875, 0.5015869140625, 0.502197265625]"
   ]
  },
  {
   "cell_type": "code",
   "execution_count": 42,
   "metadata": {},
   "outputs": [],
   "source": [
    "az = [0.9022216796875, 0.9012451171875, 0.899658203125, 0.9007568359375, 0.9024658203125, 0.9017333984375, 0.90283203125, 0.9013671875, 0.90185546875, 0.9002685546875, 0.8995361328125, 0.9012451171875, 0.9000244140625, 0.9013671875, 0.899658203125, 0.9034423828125, 0.9017333984375, 0.9010009765625, 0.903076171875, 0.9029541015625, 0.9012451171875, 0.9024658203125, 0.9022216796875, 0.9024658203125, 0.90283203125, 0.903076171875, 0.90283203125, 0.9024658203125, 0.901611328125, 0.90087890625, 0.9017333984375, 0.9014892578125, 0.90185546875, 0.9002685546875, 0.900634765625, 0.90185546875, 0.9005126953125, 0.9010009765625, 0.900634765625, 0.9013671875, 0.9005126953125, 0.900390625, 0.902587890625, 0.9017333984375, 0.8995361328125, 0.9010009765625, 0.9010009765625, 0.9014892578125, 0.90234375, 0.901611328125, 0.900390625, 0.901611328125, 0.9014892578125, 0.902099609375, 0.90185546875, 0.90234375, 0.9014892578125, 0.901123046875, 0.90185546875, 0.9034423828125, 0.8994140625, 0.902099609375, 0.903076171875, 0.9017333984375, 0.902587890625, 0.900390625, 0.9012451171875, 0.900146484375, 0.900146484375, 0.903076171875, 0.9010009765625, 0.901611328125, 0.90283203125, 0.901611328125, 0.90185546875, 0.89990234375, 0.90234375, 0.9024658203125, 0.903076171875, 0.9027099609375, 0.9024658203125, 0.902099609375, 0.9024658203125, 0.9019775390625, 0.9014892578125, 0.900390625, 0.902587890625, 0.90185546875, 0.900390625, 0.902099609375, 0.901123046875, 0.9024658203125, 0.9022216796875, 0.9010009765625, 0.9007568359375, 0.9017333984375, 0.9002685546875, 0.9013671875, 0.9022216796875, 0.9022216796875, 0.89990234375, 0.902099609375, 0.902099609375, 0.89990234375, 0.900146484375, 0.900390625, 0.9022216796875, 0.900146484375, 0.9022216796875, 0.9033203125, 0.900146484375, 0.9022216796875, 0.9013671875, 0.905029296875, 0.9010009765625, 0.9007568359375, 0.901123046875, 0.90087890625, 0.901611328125, 0.9013671875, 0.9000244140625, 0.9002685546875, 0.9027099609375, 0.90234375, 0.9014892578125, 0.900634765625, 0.901123046875, 0.9010009765625, 0.901123046875, 0.9010009765625, 0.9013671875, 0.90087890625, 0.9005126953125, 0.9007568359375, 0.901123046875, 0.8980712890625, 0.9012451171875, 0.9002685546875, 0.9013671875, 0.8992919921875, 0.9013671875, 0.9010009765625, 0.9013671875, 0.90185546875, 0.9010009765625, 0.9014892578125, 0.9007568359375, 0.9010009765625, 0.901611328125, 0.8994140625, 0.9014892578125, 0.9002685546875, 0.9010009765625, 0.9012451171875, 0.9002685546875, 0.9017333984375, 0.9027099609375, 0.9013671875, 0.9010009765625, 0.9012451171875, 0.9039306640625, 0.90234375, 0.9012451171875, 0.901123046875, 0.901123046875, 0.900146484375, 0.90283203125, 0.9012451171875, 0.90185546875, 0.9007568359375, 0.9007568359375, 0.900634765625, 0.902587890625, 0.9024658203125, 0.9002685546875, 0.900634765625, 0.9005126953125, 0.90283203125, 0.90087890625, 0.9013671875, 0.9000244140625, 0.9019775390625, 0.900390625, 0.901611328125, 0.902587890625, 0.901611328125, 0.901123046875, 0.8997802734375, 0.900634765625, 0.900634765625, 0.90185546875, 0.90283203125, 0.901611328125, 0.902587890625, 0.903076171875, 0.9000244140625, 0.9010009765625, 0.901123046875, 0.9010009765625, 0.901123046875, 0.9005126953125, 0.9012451171875, 0.9012451171875, 0.9019775390625, 0.9022216796875, 0.9005126953125, 0.9010009765625, 0.902587890625, 0.9017333984375, 0.901123046875, 0.9013671875, 0.90185546875, 0.89990234375, 0.900390625, 0.9007568359375, 0.90185546875, 0.900390625, 0.9007568359375, 0.899169921875, 0.9017333984375, 0.9027099609375, 0.900634765625, 0.900634765625, 0.901123046875, 0.9017333984375, 0.9022216796875, 0.9019775390625, 0.9022216796875, 0.90087890625, 0.901123046875, 0.9014892578125, 0.9024658203125, 0.90087890625, 0.90234375, 0.9013671875, 0.9019775390625, 0.901611328125, 0.9019775390625, 0.90185546875, 0.900634765625, 0.9019775390625, 0.9019775390625, 0.9017333984375, 0.90234375, 0.9019775390625, 0.9017333984375, 0.9005126953125, 0.902099609375, 0.902099609375, 0.9005126953125, 0.901123046875, 0.9013671875, 0.900390625, 0.9022216796875, 0.9027099609375, 0.90087890625, 0.9039306640625, 0.899169921875, 0.9017333984375, 0.90087890625, 0.902099609375, 0.901611328125, 0.9024658203125, 0.9005126953125, 0.9012451171875, 0.901123046875, 0.9022216796875, 0.9019775390625, 0.9022216796875, 0.9013671875, 0.90087890625, 0.9013671875, 0.90185546875, 0.900634765625, 0.8995361328125, 0.8988037109375, 0.9013671875, 0.9014892578125, 0.9013671875, 0.90087890625, 0.9014892578125, 0.9024658203125, 0.9010009765625, 0.90087890625, 0.9014892578125, 0.900146484375, 0.901611328125, 0.9005126953125, 0.9012451171875, 0.901611328125, 0.9014892578125, 0.9012451171875, 0.9005126953125, 0.9005126953125, 0.9013671875, 0.9013671875, 0.9014892578125, 0.902099609375, 0.9013671875, 0.9005126953125, 0.900634765625, 0.9000244140625, 0.90185546875, 0.9013671875, 0.9029541015625, 0.901611328125, 0.9014892578125, 0.8997802734375, 0.89990234375, 0.90185546875, 0.9005126953125, 0.90185546875, 0.90185546875, 0.90185546875, 0.9022216796875, 0.9005126953125, 0.8995361328125, 0.90087890625, 0.9013671875, 0.9014892578125, 0.9027099609375, 0.9005126953125, 0.901611328125, 0.9012451171875, 0.9010009765625, 0.9010009765625, 0.9019775390625, 0.9014892578125, 0.9013671875, 0.9022216796875, 0.8995361328125, 0.8994140625, 0.9002685546875, 0.901123046875, 0.9027099609375, 0.9022216796875, 0.90087890625, 0.900634765625, 0.9010009765625, 0.901123046875, 0.900390625, 0.9013671875, 0.9017333984375, 0.901611328125, 0.90087890625, 0.9007568359375, 0.9027099609375, 0.9017333984375, 0.9007568359375, 0.9005126953125, 0.90087890625, 0.9005126953125, 0.9019775390625, 0.902587890625, 0.902099609375, 0.900634765625, 0.9013671875, 0.902587890625, 0.9017333984375, 0.9031982421875, 0.9019775390625, 0.9014892578125, 0.9024658203125, 0.9017333984375, 0.90087890625, 0.90087890625, 0.9010009765625, 0.901123046875, 0.9014892578125, 0.902099609375, 0.900146484375, 0.9017333984375, 0.9019775390625, 0.899658203125, 0.9005126953125, 0.90185546875, 0.90234375, 0.9013671875, 0.9013671875, 0.900634765625, 0.899658203125, 0.9005126953125, 0.901611328125, 0.902099609375, 0.9005126953125, 0.900634765625, 0.9014892578125, 0.9014892578125, 0.9007568359375, 0.9019775390625, 0.900634765625, 0.90185546875, 0.902099609375, 0.90283203125, 0.90087890625, 0.90087890625, 0.9024658203125, 0.9005126953125, 0.9012451171875, 0.9017333984375, 0.90185546875, 0.901123046875, 0.9013671875, 0.9010009765625, 0.9014892578125, 0.9019775390625, 0.901123046875, 0.9005126953125, 0.901123046875, 0.900146484375, 0.9019775390625, 0.901611328125, 0.901123046875, 0.9019775390625, 0.9027099609375, 0.9017333984375, 0.903076171875, 0.9010009765625, 0.9013671875, 0.899658203125, 0.9014892578125, 0.9017333984375, 0.9017333984375, 0.9007568359375, 0.9000244140625, 0.899658203125, 0.9019775390625, 0.901123046875, 0.9034423828125, 0.9017333984375, 0.9017333984375, 0.903076171875, 0.901123046875, 0.9000244140625, 0.9027099609375, 0.9007568359375, 0.9029541015625, 0.90185546875, 0.9017333984375, 0.899658203125, 0.9013671875, 0.900390625, 0.8997802734375, 0.900634765625, 0.9012451171875, 0.9010009765625, 0.901123046875, 0.902587890625, 0.9017333984375, 0.9005126953125, 0.9022216796875, 0.899658203125, 0.9012451171875, 0.9017333984375, 0.9022216796875, 0.9013671875, 0.9012451171875, 0.9010009765625, 0.9013671875, 0.9019775390625, 0.902099609375, 0.90185546875, 0.9017333984375, 0.900146484375, 0.9014892578125, 0.8997802734375, 0.9019775390625, 0.90087890625, 0.90087890625, 0.9010009765625, 0.9019775390625, 0.9000244140625, 0.90234375, 0.9010009765625, 0.902587890625, 0.902099609375, 0.900634765625, 0.9007568359375, 0.9012451171875, 0.901123046875, 0.90087890625, 0.90087890625, 0.9007568359375, 0.900634765625, 0.90087890625, 0.902587890625, 0.902099609375, 0.89990234375, 0.900634765625, 0.9007568359375, 0.9036865234375, 0.9024658203125, 0.8995361328125, 0.9005126953125, 0.900634765625, 0.900146484375, 0.902099609375, 0.90185546875, 0.9014892578125, 0.901123046875]"
   ]
  },
  {
   "cell_type": "code",
   "execution_count": 43,
   "metadata": {},
   "outputs": [],
   "source": [
    "gz = [2.2125244140625, 2.25830078125, 2.2430419921875, 2.2430419921875, 2.2125244140625, 2.227783203125, 2.2430419921875, 2.227783203125, 2.2125244140625, 2.227783203125, 2.2125244140625, 2.2125244140625, 2.227783203125, 2.2430419921875, 2.25830078125, 2.2125244140625, 2.2125244140625, 2.197265625, 2.227783203125, 2.197265625, 2.227783203125, 2.2430419921875, 2.227783203125, 2.2125244140625, 2.197265625, 2.2125244140625, 2.227783203125, 2.227783203125, 2.197265625, 2.197265625, 2.197265625, 2.2430419921875, 2.1820068359375, 2.2430419921875, 2.25830078125, 2.227783203125, 2.227783203125, 2.2125244140625, 2.227783203125, 2.197265625, 2.197265625, 2.227783203125, 2.2430419921875, 2.197265625, 2.1820068359375, 2.1514892578125, 2.1820068359375, 2.227783203125, 2.2125244140625, 2.197265625, 2.227783203125, 2.2125244140625, 2.2430419921875, 2.2125244140625, 2.197265625, 2.2125244140625, 2.2430419921875, 2.2430419921875, 2.227783203125, 2.2125244140625, 2.197265625, 2.227783203125, 2.227783203125, 2.197265625, 2.197265625, 2.197265625, 2.2125244140625, 2.2430419921875, 2.2125244140625, 2.227783203125, 2.2125244140625, 2.227783203125, 2.227783203125, 2.2735595703125, 2.227783203125, 2.2430419921875, 2.1820068359375, 2.1820068359375, 2.227783203125, 2.197265625, 2.2430419921875, 2.2430419921875, 2.2125244140625, 2.1820068359375, 2.197265625, 2.227783203125, 2.2125244140625, 2.2125244140625, 2.2125244140625, 2.2430419921875, 2.2430419921875, 2.2125244140625, 2.2125244140625, 2.227783203125, 2.1820068359375, 2.197265625, 2.2430419921875, 2.2125244140625, 2.227783203125, 2.2125244140625, 2.2125244140625, 2.2125244140625, 2.2125244140625, 2.1820068359375, 2.2125244140625, 2.227783203125, 2.227783203125, 2.2735595703125, 2.2125244140625, 2.227783203125, 2.2125244140625, 2.227783203125, 2.2430419921875, 2.2125244140625, 2.227783203125, 2.197265625, 2.197265625, 2.2125244140625, 2.2125244140625, 2.1514892578125, 2.2125244140625, 2.227783203125, 2.227783203125, 2.1820068359375, 2.227783203125, 2.2125244140625, 2.227783203125, 2.25830078125, 2.227783203125, 2.2125244140625, 2.2125244140625, 2.2125244140625, 2.25830078125, 2.2430419921875, 2.2125244140625, 2.197265625, 2.227783203125, 2.227783203125, 2.197265625, 2.197265625, 2.25830078125, 2.2430419921875, 2.2735595703125, 2.227783203125, 2.227783203125, 2.227783203125, 2.2125244140625, 2.2125244140625, 2.197265625, 2.227783203125, 2.227783203125, 2.2430419921875, 2.227783203125, 2.227783203125, 2.197265625, 2.166748046875, 2.227783203125, 2.227783203125, 2.197265625, 2.1820068359375, 2.2125244140625, 2.1820068359375, 2.2125244140625, 2.197265625, 2.2430419921875, 2.227783203125, 2.197265625, 2.2125244140625, 2.2430419921875, 2.2125244140625, 2.2430419921875, 2.227783203125, 2.166748046875, 2.2125244140625, 2.2430419921875, 2.2430419921875, 2.2430419921875, 2.2125244140625, 2.197265625, 2.197265625, 2.227783203125, 2.2430419921875, 2.2430419921875, 2.2125244140625, 2.1820068359375, 2.2430419921875, 2.1820068359375, 2.1820068359375, 2.2125244140625, 2.2125244140625, 2.227783203125, 2.2430419921875, 2.2125244140625, 2.2125244140625, 2.2430419921875, 2.2125244140625, 2.166748046875, 2.227783203125, 2.2125244140625, 2.197265625, 2.197265625, 2.166748046875, 2.2430419921875, 2.2125244140625, 2.25830078125, 2.227783203125, 2.227783203125, 2.2125244140625, 2.197265625, 2.197265625, 2.2430419921875, 2.2125244140625, 2.2125244140625, 2.197265625, 2.197265625, 2.2735595703125, 2.25830078125, 2.227783203125, 2.197265625, 2.1820068359375, 2.2125244140625, 2.2125244140625, 2.1820068359375, 2.2125244140625, 2.1820068359375, 2.1820068359375, 2.2125244140625, 2.197265625, 2.2430419921875, 2.227783203125, 2.2125244140625, 2.2125244140625, 2.2125244140625, 2.197265625, 2.197265625, 2.2125244140625, 2.2125244140625, 2.227783203125, 2.227783203125, 2.2430419921875, 2.2125244140625, 2.2430419921875, 2.227783203125, 2.227783203125, 2.197265625, 2.197265625, 2.2125244140625, 2.227783203125, 2.227783203125, 2.25830078125, 2.197265625, 2.1820068359375, 2.197265625, 2.197265625, 2.227783203125, 2.197265625, 2.197265625, 2.1820068359375, 2.197265625, 2.227783203125, 2.227783203125, 2.2125244140625, 2.197265625, 2.1820068359375, 2.1820068359375, 2.197265625, 2.197265625, 2.227783203125, 2.197265625, 2.197265625, 2.197265625, 2.2125244140625, 2.2430419921875, 2.1820068359375, 2.197265625, 2.1514892578125, 2.1820068359375, 2.2125244140625, 2.197265625, 2.2125244140625, 2.197265625, 2.1820068359375, 2.227783203125, 2.197265625, 2.197265625, 2.197265625, 2.166748046875, 2.2430419921875, 2.197265625, 2.2125244140625, 2.2125244140625, 2.1820068359375, 2.1820068359375, 2.2430419921875, 2.25830078125, 2.2125244140625, 2.227783203125, 2.227783203125, 2.2125244140625, 2.25830078125, 2.2125244140625, 2.197265625, 2.2735595703125, 2.227783203125, 2.2125244140625, 2.2125244140625, 2.227783203125, 2.2125244140625, 2.197265625, 2.2125244140625, 2.2125244140625, 2.2125244140625, 2.2125244140625, 2.2125244140625, 2.227783203125, 2.2125244140625, 2.197265625, 2.1514892578125, 2.227783203125, 2.2735595703125, 2.2125244140625, 2.166748046875, 2.166748046875, 2.1820068359375, 2.227783203125, 2.1820068359375, 2.227783203125, 2.2125244140625, 2.227783203125, 2.227783203125, 2.227783203125, 2.227783203125, 2.227783203125, 2.1820068359375, 2.2125244140625, 2.197265625, 2.1820068359375, 2.197265625, 2.166748046875, 2.1820068359375, 2.197265625, 2.2125244140625, 2.227783203125, 2.2125244140625, 2.2125244140625, 2.2125244140625, 2.2125244140625, 2.197265625, 2.2125244140625, 2.197265625, 2.227783203125, 2.197265625, 2.197265625, 2.2125244140625, 2.2125244140625, 2.2430419921875, 2.2125244140625, 2.197265625, 2.197265625, 2.166748046875, 2.197265625, 2.2125244140625, 2.227783203125, 2.2125244140625, 2.2125244140625, 2.197265625, 2.227783203125, 2.2125244140625, 2.227783203125, 2.227783203125, 2.2125244140625, 2.197265625, 2.166748046875, 2.197265625, 2.227783203125, 2.227783203125, 2.2125244140625, 2.197265625, 2.166748046875, 2.2125244140625, 2.2430419921875, 2.2125244140625, 2.227783203125, 2.197265625, 2.2125244140625, 2.2125244140625, 2.197265625, 2.2125244140625, 2.2430419921875, 2.2125244140625, 2.197265625, 2.227783203125, 2.227783203125, 2.227783203125, 2.197265625, 2.197265625, 2.197265625, 2.197265625, 2.2125244140625, 2.2430419921875, 2.197265625, 2.197265625, 2.2430419921875, 2.2430419921875, 2.2125244140625, 2.1820068359375, 2.227783203125, 2.227783203125, 2.1820068359375, 2.166748046875, 2.197265625, 2.166748046875, 2.197265625, 2.197265625, 2.2125244140625, 2.2430419921875, 2.2430419921875, 2.197265625, 2.197265625, 2.197265625, 2.197265625, 2.2125244140625, 2.166748046875, 2.227783203125, 2.2430419921875, 2.227783203125, 2.197265625, 2.1820068359375, 2.2125244140625, 2.197265625, 2.2125244140625, 2.197265625, 2.166748046875, 2.166748046875, 2.2125244140625, 2.2125244140625, 2.197265625, 2.1820068359375, 2.1820068359375, 2.1514892578125, 2.1820068359375, 2.197265625, 2.227783203125, 2.1820068359375, 2.197265625, 2.2125244140625, 2.2125244140625, 2.2125244140625, 2.1820068359375, 2.227783203125, 2.2430419921875, 2.197265625, 2.1820068359375, 2.227783203125, 2.227783203125, 2.2430419921875, 2.2430419921875, 2.227783203125, 2.1820068359375, 2.13623046875, 2.2125244140625, 2.227783203125, 2.227783203125, 2.2125244140625, 2.2125244140625, 2.197265625, 2.2430419921875, 2.1820068359375, 2.197265625, 2.2125244140625, 2.227783203125, 2.2125244140625, 2.2430419921875, 2.2125244140625, 2.197265625, 2.2125244140625, 2.2430419921875, 2.2430419921875, 2.2430419921875, 2.227783203125, 2.2125244140625, 2.2125244140625, 2.227783203125, 2.2125244140625, 2.2125244140625, 2.227783203125, 2.25830078125, 2.2430419921875, 2.2430419921875, 2.197265625, 2.2125244140625, 2.2125244140625, 2.227783203125, 2.2430419921875, 2.2430419921875, 2.227783203125, 2.227783203125, 2.1820068359375, 2.1820068359375, 2.1820068359375]"
   ]
  },
  {
   "cell_type": "code",
   "execution_count": 44,
   "metadata": {},
   "outputs": [],
   "source": [
    "gy = [0.6256103515625, 0.6103515625, 0.6256103515625, 0.6256103515625, 0.67138671875, 0.640869140625, 0.67138671875, 0.6866455078125, 0.701904296875, 0.67138671875, 0.7171630859375, 0.6561279296875, 0.640869140625, 0.6561279296875, 0.67138671875, 0.6561279296875, 0.6561279296875, 0.6866455078125, 0.67138671875, 0.6866455078125, 0.6561279296875, 0.67138671875, 0.6561279296875, 0.6256103515625, 0.701904296875, 0.6561279296875, 0.6866455078125, 0.6866455078125, 0.6561279296875, 0.6561279296875, 0.67138671875, 0.67138671875, 0.6866455078125, 0.7171630859375, 0.67138671875, 0.67138671875, 0.701904296875, 0.6866455078125, 0.67138671875, 0.6256103515625, 0.6866455078125, 0.6866455078125, 0.6866455078125, 0.6561279296875, 0.67138671875, 0.640869140625, 0.67138671875, 0.67138671875, 0.6561279296875, 0.6561279296875, 0.67138671875, 0.6866455078125, 0.6561279296875, 0.67138671875, 0.640869140625, 0.6866455078125, 0.67138671875, 0.67138671875, 0.6561279296875, 0.6866455078125, 0.6103515625, 0.6561279296875, 0.6561279296875, 0.640869140625, 0.640869140625, 0.640869140625, 0.701904296875, 0.6866455078125, 0.6866455078125, 0.6866455078125, 0.67138671875, 0.701904296875, 0.6561279296875, 0.6866455078125, 0.6561279296875, 0.6561279296875, 0.67138671875, 0.6561279296875, 0.701904296875, 0.67138671875, 0.640869140625, 0.6103515625, 0.67138671875, 0.67138671875, 0.7171630859375, 0.640869140625, 0.6561279296875, 0.701904296875, 0.640869140625, 0.640869140625, 0.701904296875, 0.67138671875, 0.640869140625, 0.640869140625, 0.5950927734375, 0.6256103515625, 0.6561279296875, 0.6561279296875, 0.6866455078125, 0.67138671875, 0.701904296875, 0.640869140625, 0.640869140625, 0.640869140625, 0.640869140625, 0.67138671875, 0.701904296875, 0.640869140625, 0.6256103515625, 0.640869140625, 0.6561279296875, 0.6866455078125, 0.6256103515625, 0.640869140625, 0.6866455078125, 0.6561279296875, 0.6866455078125, 0.6561279296875, 0.6256103515625, 0.640869140625, 0.6866455078125, 0.67138671875, 0.6866455078125, 0.6561279296875, 0.67138671875, 0.640869140625, 0.640869140625, 0.6103515625, 0.640869140625, 0.640869140625, 0.6561279296875, 0.6561279296875, 0.6561279296875, 0.6256103515625, 0.6561279296875, 0.67138671875, 0.6866455078125, 0.67138671875, 0.6561279296875, 0.67138671875, 0.67138671875, 0.6866455078125, 0.6561279296875, 0.6866455078125, 0.6561279296875, 0.6561279296875, 0.6561279296875, 0.6866455078125, 0.6866455078125, 0.6561279296875, 0.6561279296875, 0.701904296875, 0.6866455078125, 0.6256103515625, 0.6561279296875, 0.67138671875, 0.6561279296875, 0.701904296875, 0.67138671875, 0.67138671875, 0.701904296875, 0.6561279296875, 0.6256103515625, 0.67138671875, 0.67138671875, 0.6866455078125, 0.701904296875, 0.6561279296875, 0.6561279296875, 0.6561279296875, 0.6561279296875, 0.67138671875, 0.67138671875, 0.67138671875, 0.6866455078125, 0.6866455078125, 0.6866455078125, 0.6561279296875, 0.701904296875, 0.732421875, 0.701904296875, 0.6256103515625, 0.6256103515625, 0.6561279296875, 0.67138671875, 0.67138671875, 0.6561279296875, 0.6561279296875, 0.701904296875, 0.6561279296875, 0.67138671875, 0.640869140625, 0.6866455078125, 0.6256103515625, 0.6561279296875, 0.67138671875, 0.640869140625, 0.701904296875, 0.6561279296875, 0.640869140625, 0.640869140625, 0.640869140625, 0.640869140625, 0.6561279296875, 0.640869140625, 0.6561279296875, 0.640869140625, 0.6561279296875, 0.6256103515625, 0.67138671875, 0.7171630859375, 0.701904296875, 0.6866455078125, 0.640869140625, 0.6561279296875, 0.6561279296875, 0.6561279296875, 0.640869140625, 0.6256103515625, 0.6866455078125, 0.6866455078125, 0.7171630859375, 0.6866455078125, 0.640869140625, 0.640869140625, 0.6561279296875, 0.6561279296875, 0.701904296875, 0.7476806640625, 0.7171630859375, 0.6866455078125, 0.6561279296875, 0.701904296875, 0.6866455078125, 0.6866455078125, 0.6866455078125, 0.6561279296875, 0.67138671875, 0.67138671875, 0.6866455078125, 0.6561279296875, 0.6866455078125, 0.640869140625, 0.6866455078125, 0.7171630859375, 0.6866455078125, 0.6561279296875, 0.640869140625, 0.6561279296875, 0.6561279296875, 0.67138671875, 0.67138671875, 0.701904296875, 0.6866455078125, 0.6256103515625, 0.6103515625, 0.6561279296875, 0.67138671875, 0.6866455078125, 0.701904296875, 0.6866455078125, 0.67138671875, 0.640869140625, 0.640869140625, 0.640869140625, 0.640869140625, 0.6866455078125, 0.6866455078125, 0.6256103515625, 0.6561279296875, 0.640869140625, 0.67138671875, 0.640869140625, 0.6561279296875, 0.640869140625, 0.7171630859375, 0.7476806640625, 0.732421875, 0.67138671875, 0.67138671875, 0.6561279296875, 0.6866455078125, 0.6561279296875, 0.6561279296875, 0.640869140625, 0.6866455078125, 0.701904296875, 0.6866455078125, 0.701904296875, 0.67138671875, 0.640869140625, 0.640869140625, 0.67138671875, 0.6561279296875, 0.640869140625, 0.6561279296875, 0.6561279296875, 0.67138671875, 0.6103515625, 0.6866455078125, 0.6866455078125, 0.6561279296875, 0.640869140625, 0.640869140625, 0.640869140625, 0.6561279296875, 0.67138671875, 0.6561279296875, 0.67138671875, 0.6866455078125, 0.6561279296875, 0.67138671875, 0.67138671875, 0.701904296875, 0.6866455078125, 0.6866455078125, 0.67138671875, 0.701904296875, 0.640869140625, 0.640869140625, 0.640869140625, 0.6561279296875, 0.6561279296875, 0.67138671875, 0.6866455078125, 0.67138671875, 0.640869140625, 0.640869140625, 0.701904296875, 0.6561279296875, 0.67138671875, 0.6561279296875, 0.6561279296875, 0.67138671875, 0.640869140625, 0.6103515625, 0.6561279296875, 0.67138671875, 0.701904296875, 0.6866455078125, 0.6866455078125, 0.67138671875, 0.6866455078125, 0.6103515625, 0.6561279296875, 0.640869140625, 0.67138671875, 0.7171630859375, 0.67138671875, 0.67138671875, 0.6866455078125, 0.67138671875, 0.6866455078125, 0.67138671875, 0.6561279296875, 0.640869140625, 0.6256103515625, 0.640869140625, 0.67138671875, 0.640869140625, 0.640869140625, 0.67138671875, 0.67138671875, 0.6561279296875, 0.640869140625, 0.67138671875, 0.67138671875, 0.640869140625, 0.6256103515625, 0.6103515625, 0.640869140625, 0.6866455078125, 0.67138671875, 0.67138671875, 0.6561279296875, 0.6866455078125, 0.701904296875, 0.7171630859375, 0.67138671875, 0.67138671875, 0.6866455078125, 0.701904296875, 0.640869140625, 0.6103515625, 0.6256103515625, 0.6103515625, 0.6561279296875, 0.6103515625, 0.67138671875, 0.701904296875, 0.6561279296875, 0.6561279296875, 0.6561279296875, 0.7171630859375, 0.6561279296875, 0.6561279296875, 0.67138671875, 0.67138671875, 0.6561279296875, 0.6561279296875, 0.7171630859375, 0.7171630859375, 0.67138671875, 0.640869140625, 0.6256103515625, 0.640869140625, 0.6256103515625, 0.6103515625, 0.640869140625, 0.640869140625, 0.6866455078125, 0.67138671875, 0.701904296875, 0.6561279296875, 0.640869140625, 0.6866455078125, 0.6866455078125, 0.67138671875, 0.6561279296875, 0.6256103515625, 0.640869140625, 0.640869140625, 0.640869140625, 0.640869140625, 0.6561279296875, 0.640869140625, 0.6866455078125, 0.6866455078125, 0.67138671875, 0.67138671875, 0.67138671875, 0.640869140625, 0.6561279296875, 0.701904296875, 0.640869140625, 0.6103515625, 0.7171630859375, 0.67138671875, 0.640869140625, 0.6256103515625, 0.6561279296875, 0.640869140625, 0.6866455078125, 0.6561279296875, 0.6866455078125, 0.6561279296875, 0.6561279296875, 0.7171630859375, 0.6561279296875, 0.640869140625, 0.640869140625, 0.6256103515625, 0.6561279296875, 0.6866455078125, 0.6561279296875, 0.7171630859375, 0.67138671875, 0.640869140625, 0.6256103515625, 0.6103515625, 0.6256103515625, 0.6561279296875, 0.67138671875, 0.6103515625, 0.6256103515625, 0.67138671875, 0.640869140625, 0.732421875, 0.701904296875, 0.6866455078125, 0.6866455078125, 0.6561279296875, 0.6103515625, 0.6866455078125, 0.6561279296875, 0.67138671875, 0.6561279296875, 0.6561279296875, 0.67138671875, 0.701904296875, 0.6561279296875, 0.6256103515625, 0.6561279296875, 0.6561279296875, 0.7171630859375, 0.640869140625, 0.640869140625, 0.6561279296875, 0.640869140625, 0.640869140625, 0.6561279296875, 0.640869140625, 0.701904296875, 0.6866455078125, 0.701904296875, 0.67138671875, 0.640869140625, 0.6866455078125, 0.701904296875, 0.6866455078125]"
   ]
  },
  {
   "cell_type": "code",
   "execution_count": 45,
   "metadata": {},
   "outputs": [],
   "source": [
    "gx = [-1.3275146484375, -1.3885498046875, -1.3275146484375, -1.3427734375, -1.373291015625, -1.2969970703125, -1.3275146484375, -1.312255859375, -1.3427734375, -1.312255859375, -1.3275146484375, -1.373291015625, -1.312255859375, -1.3580322265625, -1.312255859375, -1.3275146484375, -1.3427734375, -1.2969970703125, -1.3427734375, -1.3427734375, -1.3580322265625, -1.3275146484375, -1.312255859375, -1.3427734375, -1.312255859375, -1.28173828125, -1.312255859375, -1.312255859375, -1.3275146484375, -1.2969970703125, -1.3275146484375, -1.2664794921875, -1.3427734375, -1.2969970703125, -1.373291015625, -1.3580322265625, -1.3427734375, -1.3275146484375, -1.3427734375, -1.3427734375, -1.3275146484375, -1.3275146484375, -1.373291015625, -1.2969970703125, -1.312255859375, -1.3275146484375, -1.3427734375, -1.3580322265625, -1.3580322265625, -1.373291015625, -1.3275146484375, -1.373291015625, -1.3427734375, -1.3427734375, -1.312255859375, -1.2969970703125, -1.3427734375, -1.373291015625, -1.3275146484375, -1.373291015625, -1.312255859375, -1.373291015625, -1.40380859375, -1.3580322265625, -1.373291015625, -1.3580322265625, -1.3427734375, -1.3275146484375, -1.3885498046875, -1.3275146484375, -1.3580322265625, -1.3427734375, -1.3275146484375, -1.3275146484375, -1.3580322265625, -1.3275146484375, -1.373291015625, -1.3275146484375, -1.312255859375, -1.2969970703125, -1.3275146484375, -1.3427734375, -1.373291015625, -1.3427734375, -1.3275146484375, -1.312255859375, -1.3580322265625, -1.3580322265625, -1.3580322265625, -1.3427734375, -1.3427734375, -1.3275146484375, -1.3427734375, -1.3427734375, -1.3885498046875, -1.3275146484375, -1.3275146484375, -1.3580322265625, -1.2969970703125, -1.3427734375, -1.3427734375, -1.3580322265625, -1.3580322265625, -1.3427734375, -1.312255859375, -1.3580322265625, -1.3580322265625, -1.3427734375, -1.373291015625, -1.373291015625, -1.3885498046875, -1.312255859375, -1.3275146484375, -1.3427734375, -1.3580322265625, -1.373291015625, -1.3885498046875, -1.2969970703125, -1.3427734375, -1.3427734375, -1.3580322265625, -1.3275146484375, -1.373291015625, -1.3275146484375, -1.373291015625, -1.3427734375, -1.373291015625, -1.3427734375, -1.2969970703125, -1.3427734375, -1.3580322265625, -1.312255859375, -1.40380859375, -1.40380859375, -1.373291015625, -1.2969970703125, -1.373291015625, -1.3580322265625, -1.2969970703125, -1.3275146484375, -1.3580322265625, -1.3427734375, -1.312255859375, -1.3427734375, -1.3427734375, -1.3580322265625, -1.3427734375, -1.3427734375, -1.3427734375, -1.3275146484375, -1.3427734375, -1.3580322265625, -1.3427734375, -1.3275146484375, -1.312255859375, -1.3427734375, -1.3580322265625, -1.3275146484375, -1.3580322265625, -1.3427734375, -1.3885498046875, -1.3275146484375, -1.312255859375, -1.3275146484375, -1.3275146484375, -1.3580322265625, -1.373291015625, -1.3275146484375, -1.312255859375, -1.3427734375, -1.3580322265625, -1.3275146484375, -1.3580322265625, -1.3427734375, -1.3427734375, -1.3885498046875, -1.40380859375, -1.3885498046875, -1.3580322265625, -1.3427734375, -1.3427734375, -1.3580322265625, -1.3580322265625, -1.373291015625, -1.312255859375, -1.3427734375, -1.3427734375, -1.373291015625, -1.3275146484375, -1.312255859375, -1.3275146484375, -1.3275146484375, -1.3580322265625, -1.3580322265625, -1.3275146484375, -1.3580322265625, -1.3275146484375, -1.3275146484375, -1.3580322265625, -1.3427734375, -1.3580322265625, -1.3427734375, -1.3427734375, -1.3427734375, -1.3427734375, -1.373291015625, -1.3885498046875, -1.3885498046875, -1.373291015625, -1.3885498046875, -1.3580322265625, -1.40380859375, -1.3580322265625, -1.373291015625, -1.3580322265625, -1.3427734375, -1.3580322265625, -1.3427734375, -1.3427734375, -1.3427734375, -1.373291015625, -1.3427734375, -1.312255859375, -1.3427734375, -1.2969970703125, -1.2969970703125, -1.3427734375, -1.3275146484375, -1.3580322265625, -1.3275146484375, -1.3275146484375, -1.3580322265625, -1.312255859375, -1.2664794921875, -1.3275146484375, -1.3427734375, -1.373291015625, -1.3580322265625, -1.373291015625, -1.3580322265625, -1.3275146484375, -1.312255859375, -1.3275146484375, -1.3427734375, -1.3580322265625, -1.3580322265625, -1.312255859375, -1.3580322265625, -1.40380859375, -1.3885498046875, -1.3275146484375, -1.3275146484375, -1.312255859375, -1.3580322265625, -1.373291015625, -1.373291015625, -1.3580322265625, -1.3427734375, -1.3427734375, -1.3580322265625, -1.3275146484375, -1.312255859375, -1.373291015625, -1.3580322265625, -1.3427734375, -1.3580322265625, -1.3427734375, -1.3275146484375, -1.373291015625, -1.312255859375, -1.28173828125, -1.3275146484375, -1.2969970703125, -1.3275146484375, -1.3580322265625, -1.3427734375, -1.3580322265625, -1.3580322265625, -1.312255859375, -1.3580322265625, -1.3427734375, -1.312255859375, -1.2969970703125, -1.3275146484375, -1.373291015625, -1.3580322265625, -1.3580322265625, -1.373291015625, -1.312255859375, -1.3427734375, -1.3427734375, -1.3427734375, -1.3427734375, -1.3427734375, -1.373291015625, -1.3580322265625, -1.3427734375, -1.3427734375, -1.3427734375, -1.3427734375, -1.3580322265625, -1.373291015625, -1.3275146484375, -1.3580322265625, -1.3427734375, -1.3275146484375, -1.312255859375, -1.28173828125, -1.3275146484375, -1.312255859375, -1.2969970703125, -1.3580322265625, -1.3275146484375, -1.3275146484375, -1.3275146484375, -1.3427734375, -1.3275146484375, -1.3275146484375, -1.373291015625, -1.3580322265625, -1.373291015625, -1.3885498046875, -1.373291015625, -1.3427734375, -1.3427734375, -1.3580322265625, -1.3275146484375, -1.373291015625, -1.3275146484375, -1.312255859375, -1.373291015625, -1.373291015625, -1.312255859375, -1.2969970703125, -1.312255859375, -1.312255859375, -1.3427734375, -1.3427734375, -1.3580322265625, -1.3275146484375, -1.3580322265625, -1.3580322265625, -1.3275146484375, -1.312255859375, -1.3275146484375, -1.3275146484375, -1.3580322265625, -1.3427734375, -1.3275146484375, -1.3275146484375, -1.3275146484375, -1.3427734375, -1.3580322265625, -1.3427734375, -1.373291015625, -1.2969970703125, -1.3427734375, -1.3275146484375, -1.3427734375, -1.3580322265625, -1.373291015625, -1.373291015625, -1.3580322265625, -1.3580322265625, -1.312255859375, -1.312255859375, -1.3275146484375, -1.3427734375, -1.3275146484375, -1.3275146484375, -1.3580322265625, -1.3427734375, -1.3427734375, -1.3275146484375, -1.3580322265625, -1.4190673828125, -1.3427734375, -1.3580322265625, -1.3580322265625, -1.373291015625, -1.3427734375, -1.312255859375, -1.312255859375, -1.312255859375, -1.312255859375, -1.3427734375, -1.3427734375, -1.3275146484375, -1.3427734375, -1.3427734375, -1.3580322265625, -1.3580322265625, -1.3275146484375, -1.312255859375, -1.3275146484375, -1.3275146484375, -1.312255859375, -1.312255859375, -1.2969970703125, -1.3427734375, -1.3427734375, -1.3885498046875, -1.3885498046875, -1.3885498046875, -1.3275146484375, -1.28173828125, -1.3427734375, -1.373291015625, -1.373291015625, -1.3427734375, -1.3275146484375, -1.3275146484375, -1.3427734375, -1.3427734375, -1.3580322265625, -1.373291015625, -1.373291015625, -1.3275146484375, -1.3580322265625, -1.3275146484375, -1.2969970703125, -1.3275146484375, -1.312255859375, -1.28173828125, -1.2969970703125, -1.312255859375, -1.312255859375, -1.3275146484375, -1.3275146484375, -1.3275146484375, -1.3275146484375, -1.3275146484375, -1.2969970703125, -1.3275146484375, -1.312255859375, -1.3275146484375, -1.373291015625, -1.3580322265625, -1.3275146484375, -1.3275146484375, -1.3275146484375, -1.312255859375, -1.3427734375, -1.373291015625, -1.3427734375, -1.312255859375, -1.312255859375, -1.3427734375, -1.2969970703125, -1.3275146484375, -1.3427734375, -1.3580322265625, -1.3580322265625, -1.3427734375, -1.3885498046875, -1.3580322265625, -1.3427734375, -1.40380859375, -1.373291015625, -1.3275146484375, -1.3427734375, -1.373291015625, -1.373291015625, -1.3275146484375, -1.3580322265625, -1.373291015625, -1.3885498046875, -1.2969970703125, -1.2969970703125, -1.28173828125, -1.373291015625, -1.3580322265625, -1.3427734375, -1.3427734375, -1.3275146484375, -1.373291015625, -1.3427734375, -1.3275146484375, -1.3275146484375, -1.312255859375, -1.3580322265625, -1.373291015625, -1.3427734375, -1.3275146484375, -1.3275146484375, -1.3580322265625, -1.3275146484375, -1.3275146484375, -1.3427734375, -1.373291015625, -1.2664794921875, -1.2969970703125, -1.3275146484375, -1.2969970703125, -1.3275146484375, -1.312255859375, -1.312255859375, -1.373291015625, -1.3427734375, -1.312255859375]"
   ]
  },
  {
   "cell_type": "code",
   "execution_count": 46,
   "metadata": {},
   "outputs": [],
   "source": [
    "test_data = np.array([ax, ay, az, gx, gy, gz]).T"
   ]
  },
  {
   "cell_type": "code",
   "execution_count": 47,
   "metadata": {},
   "outputs": [
    {
     "data": {
      "text/plain": [
       "array([[-0.07409668,  0.5012207 ,  0.90222168, -1.32751465,  0.62561035,\n",
       "         2.21252441],\n",
       "       [-0.07373047,  0.50244141,  0.90124512, -1.3885498 ,  0.61035156,\n",
       "         2.25830078],\n",
       "       [-0.07336426,  0.50195312,  0.8996582 , -1.32751465,  0.62561035,\n",
       "         2.24304199],\n",
       "       ...,\n",
       "       [-0.07434082,  0.50292969,  0.90185547, -1.37329102,  0.68664551,\n",
       "         2.18200684],\n",
       "       [-0.07458496,  0.50158691,  0.90148926, -1.34277344,  0.7019043 ,\n",
       "         2.18200684],\n",
       "       [-0.07434082,  0.50219727,  0.90112305, -1.31225586,  0.68664551,\n",
       "         2.18200684]])"
      ]
     },
     "execution_count": 47,
     "metadata": {},
     "output_type": "execute_result"
    }
   ],
   "source": [
    "test_data"
   ]
  },
  {
   "cell_type": "code",
   "execution_count": 48,
   "metadata": {},
   "outputs": [
    {
     "data": {
      "text/plain": [
       "1"
      ]
     },
     "execution_count": 48,
     "metadata": {},
     "output_type": "execute_result"
    }
   ],
   "source": [
    "is_correct_accel_data(test_data)"
   ]
  },
  {
   "cell_type": "code",
   "execution_count": 49,
   "metadata": {},
   "outputs": [],
   "source": [
    "mg = [np.linalg.norm(x[:3]) for x in test_data]\n",
    "sd= np.std(mg)"
   ]
  },
  {
   "cell_type": "code",
   "execution_count": 79,
   "metadata": {},
   "outputs": [],
   "source": [
    "ax, ay, az, gx, gy, gz = [*pdf['data'].iloc[0][0]], [*pdf['data'].iloc[0][1]], [*pdf['data'].iloc[0][2]], [*pdf['data'].iloc[0][3]], [*pdf['data'].iloc[0][4]], [*pdf['data'].iloc[0][5]]"
   ]
  },
  {
   "cell_type": "code",
   "execution_count": 81,
   "metadata": {},
   "outputs": [],
   "source": [
    "td2 = np.array([ax, ay,az,gx,gy,gz])"
   ]
  },
  {
   "cell_type": "code",
   "execution_count": 96,
   "metadata": {},
   "outputs": [
    {
     "data": {
      "text/plain": [
       "477"
      ]
     },
     "execution_count": 96,
     "metadata": {},
     "output_type": "execute_result"
    }
   ],
   "source": [
    "len(ax)"
   ]
  },
  {
   "cell_type": "code",
   "execution_count": 97,
   "metadata": {},
   "outputs": [],
   "source": [
    "td3 = np.array([*ax, *ay, *az, *gx, *gy, *gz])"
   ]
  },
  {
   "cell_type": "code",
   "execution_count": 98,
   "metadata": {},
   "outputs": [
    {
     "data": {
      "text/plain": [
       "array([-0.07421875, -0.07312012, -0.07409668, ...,  2.18200684,\n",
       "        2.16674805,  2.19726562])"
      ]
     },
     "execution_count": 98,
     "metadata": {},
     "output_type": "execute_result"
    }
   ],
   "source": [
    "td3"
   ]
  },
  {
   "cell_type": "code",
   "execution_count": 99,
   "metadata": {},
   "outputs": [],
   "source": [
    "td4 = td3.reshape(-1, 477)"
   ]
  },
  {
   "cell_type": "code",
   "execution_count": 103,
   "metadata": {},
   "outputs": [
    {
     "data": {
      "text/plain": [
       "array([[-0.07421875,  0.50219727,  0.90161133, ...,  0.59509277,\n",
       "         2.12097168,  2.12097168],\n",
       "       [-0.07312012,  0.5020752 ,  0.9029541 , ...,  0.65612793,\n",
       "         2.12097168,  2.12097168],\n",
       "       [-0.07409668,  0.50134277,  0.9029541 , ...,  0.61035156,\n",
       "         2.16674805,  2.16674805],\n",
       "       ...,\n",
       "       [-0.07275391,  0.50183105,  0.90112305, ...,  0.65612793,\n",
       "         2.18200684,  2.18200684],\n",
       "       [-0.07263184,  0.5012207 ,  0.90222168, ...,  0.68664551,\n",
       "         2.16674805,  2.16674805],\n",
       "       [-0.07312012,  0.50158691,  0.90075684, ...,  0.68664551,\n",
       "         2.19726562,  2.19726562]])"
      ]
     },
     "execution_count": 103,
     "metadata": {},
     "output_type": "execute_result"
    }
   ],
   "source": [
    "td4.T"
   ]
  },
  {
   "cell_type": "code",
   "execution_count": null,
   "metadata": {},
   "outputs": [],
   "source": []
  }
 ],
 "metadata": {
  "kernelspec": {
   "display_name": "CC3 High Performance",
   "language": "python",
   "name": "cc3_high_performance"
  },
  "language_info": {
   "codemirror_mode": {
    "name": "ipython",
    "version": 3
   },
   "file_extension": ".py",
   "mimetype": "text/x-python",
   "name": "python",
   "nbconvert_exporter": "python",
   "pygments_lexer": "ipython3",
   "version": "3.6.7"
  }
 },
 "nbformat": 4,
 "nbformat_minor": 2
}
