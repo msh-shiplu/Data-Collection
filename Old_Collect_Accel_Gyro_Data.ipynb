{
 "cells": [
  {
   "cell_type": "code",
   "execution_count": 1,
   "metadata": {},
   "outputs": [
    {
     "data": {
      "text/html": [
       "        <script type=\"text/javascript\">\n",
       "        window.PlotlyConfig = {MathJaxConfig: 'local'};\n",
       "        if (window.MathJax) {MathJax.Hub.Config({SVG: {font: \"STIX-Web\"}});}\n",
       "        if (typeof require !== 'undefined') {\n",
       "        require.undef(\"plotly\");\n",
       "        requirejs.config({\n",
       "            paths: {\n",
       "                'plotly': ['https://cdn.plot.ly/plotly-latest.min']\n",
       "            }\n",
       "        });\n",
       "        require(['plotly'], function(Plotly) {\n",
       "            window._Plotly = Plotly;\n",
       "        });\n",
       "        }\n",
       "        </script>\n",
       "        "
      ]
     },
     "metadata": {},
     "output_type": "display_data"
    }
   ],
   "source": [
    "from cerebralcortex import Kernel\n",
    "import json\n",
    "# from IPython.display import display\n",
    "# import cufflinks as cf\n",
    "from plotly.offline import iplot, init_notebook_mode\n",
    "# import plotly.graph_objs as go\n",
    "# import plotly.figure_factory as ff\n",
    "import numpy as np\n",
    "import pandas as pd\n",
    "from datetime import datetime, timedelta\n",
    "import random\n",
    "from cerebralcortex.core.datatypes import DataStream\n",
    "from cerebralcortex.core.metadata_manager.stream.metadata import Metadata, DataDescriptor, ModuleMetadata\n",
    "from cerebralcortex.core.util.spark_helper import get_or_create_sc\n",
    "import ipywidgets as widgets\n",
    "\n",
    "\n",
    "init_notebook_mode(connected=True)\n",
    "pd.set_option('display.max_rows',5)"
   ]
  },
  {
   "cell_type": "code",
   "execution_count": 18,
   "metadata": {},
   "outputs": [],
   "source": [
    "import pyspark.sql.functions as F\n",
    "from pyspark.sql.types import *"
   ]
  },
  {
   "cell_type": "code",
   "execution_count": 2,
   "metadata": {},
   "outputs": [],
   "source": [
    "CC = Kernel(\"/home/jupyter/cc3_conf/\", study_name='mperf')"
   ]
  },
  {
   "cell_type": "code",
   "execution_count": 3,
   "metadata": {},
   "outputs": [
    {
     "data": {
      "text/plain": [
       "['/cc3/study=mperf/gyroscope--org.md2k.motionsense--motion_sense_hrv--left_wrist',\n",
       " '/cc3/study=mperf/gyroscope--org.md2k.motionsense--motion_sense_hrv--right_wrist',\n",
       " '/cc3/study=mperf/gyroscope--org.md2k.phonesensor--phone']"
      ]
     },
     "execution_count": 3,
     "metadata": {},
     "output_type": "execute_result"
    }
   ],
   "source": [
    "CC.search_stream('gyro')"
   ]
  },
  {
   "cell_type": "code",
   "execution_count": 4,
   "metadata": {},
   "outputs": [],
   "source": [
    "accelerometer_right_wrist_stream_name = 'accelerometer--org.md2k.motionsense--motion_sense_hrv--right_wrist'\n",
    "gyroscope_right_wrist_stream_name = 'gyroscope--org.md2k.motionsense--motion_sense_hrv--right_wrist'"
   ]
  },
  {
   "cell_type": "code",
   "execution_count": 5,
   "metadata": {},
   "outputs": [],
   "source": [
    "user_id = CC.list_users()[0]['user_id']"
   ]
  },
  {
   "cell_type": "code",
   "execution_count": 6,
   "metadata": {},
   "outputs": [],
   "source": [
    "accel_ds = CC.get_stream(accelerometer_right_wrist_stream_name).filter_user(user_id).filter(\"accelerometer_x >= -4\")\\\n",
    "                    .filter(\"accelerometer_x <= 4\").filter(\"accelerometer_y >= -4\").filter(\"accelerometer_y <= 4\")\\\n",
    "                    .filter(\"accelerometer_z >= -4\").filter(\"accelerometer_z <= 4\")"
   ]
  },
  {
   "cell_type": "code",
   "execution_count": null,
   "metadata": {},
   "outputs": [],
   "source": [
    "accel_ds.show(5)"
   ]
  },
  {
   "cell_type": "code",
   "execution_count": 7,
   "metadata": {},
   "outputs": [],
   "source": [
    "gyro_ds = CC.get_stream(gyroscope_right_wrist_stream_name).filter_user(user_id).filter(\"gyroscope_x >= -250\")\\\n",
    "                    .filter(\"gyroscope_x <= 250\").filter(\"gyroscope_y >= -250\").filter(\"gyroscope_y <= 250\")\\\n",
    "                    .filter(\"gyroscope_z >= -250\").filter(\"gyroscope_z <= 250\")"
   ]
  },
  {
   "cell_type": "code",
   "execution_count": 8,
   "metadata": {},
   "outputs": [],
   "source": [
    "accel_w = accel_ds.window(windowDuration=60)\n",
    "gyro_w = gyro_ds.window(windowDuration=60)"
   ]
  },
  {
   "cell_type": "code",
   "execution_count": 10,
   "metadata": {},
   "outputs": [],
   "source": [
    "gyro_w = gyro_w.drop(\"user\", \"version\")"
   ]
  },
  {
   "cell_type": "code",
   "execution_count": 11,
   "metadata": {},
   "outputs": [],
   "source": [
    "common_ds = accel_w.join(gyro_w)"
   ]
  },
  {
   "cell_type": "code",
   "execution_count": 14,
   "metadata": {},
   "outputs": [
    {
     "name": "stdout",
     "output_type": "stream",
     "text": [
      "+--------------------+-------+--------------------+--------------------+--------------------+--------------------+--------------------+--------------------+--------------------+--------------------+\n",
      "|                user|version|              window|     accelerometer_y|     accelerometer_x|     accelerometer_z|              window|         gyroscope_z|         gyroscope_y|         gyroscope_x|\n",
      "+--------------------+-------+--------------------+--------------------+--------------------+--------------------+--------------------+--------------------+--------------------+--------------------+\n",
      "|f29a8628-ed1d-445...|      1|[2017-11-11 20:25...|[0.0665283203125,...|[-0.070556640625,...|[1.013671875, 1.0...|[2017-11-11 20:25...|[1.953125, 1.9683...|[0.4119873046875,...|[-1.5411376953125...|\n",
      "|f29a8628-ed1d-445...|      1|[2017-11-11 20:25...|[0.0665283203125,...|[-0.070556640625,...|[1.013671875, 1.0...|[2017-11-12 08:55...|[2.532958984375, ...|[0.3814697265625,...|[-1.46484375, -1....|\n",
      "|f29a8628-ed1d-445...|      1|[2017-11-11 20:25...|[0.0665283203125,...|[-0.070556640625,...|[1.013671875, 1.0...|[2017-11-12 10:42...|[2.410888671875, ...|[0.457763671875, ...|[-1.434326171875,...|\n",
      "|f29a8628-ed1d-445...|      1|[2017-11-11 20:25...|[0.0665283203125,...|[-0.070556640625,...|[1.013671875, 1.0...|[2017-11-12 21:03...|[12.0849609375, 8...|[18.4173583984375...|[-21.286010742187...|\n",
      "|f29a8628-ed1d-445...|      1|[2017-11-11 20:25...|[0.0665283203125,...|[-0.070556640625,...|[1.013671875, 1.0...|[2017-11-12 22:56...|[3.6773681640625,...|[5.035400390625, ...|[-17.486572265625...|\n",
      "+--------------------+-------+--------------------+--------------------+--------------------+--------------------+--------------------+--------------------+--------------------+--------------------+\n",
      "only showing top 5 rows\n",
      "\n"
     ]
    }
   ],
   "source": [
    "common_ds.show(5)"
   ]
  },
  {
   "cell_type": "code",
   "execution_count": 15,
   "metadata": {},
   "outputs": [
    {
     "name": "stdout",
     "output_type": "stream",
     "text": [
      "finished\n"
     ]
    }
   ],
   "source": [
    "print(\"finished\")"
   ]
  },
  {
   "cell_type": "code",
   "execution_count": 19,
   "metadata": {},
   "outputs": [],
   "source": [
    "def is_correct_accel_data(accel_x, accel_y, accel_z):\n",
    "    data = np.array([accel_x, accel_y, accel_z]).T\n",
    "    mg = np.mean([np.linalg.norm(x) for x in data])\n",
    "    if mg < 0.8:\n",
    "        return 0\n",
    "    return 1\n",
    "udf_is_correct_accel_data = F.udf(is_correct_accel_data, IntegerType())\n",
    "\n",
    "def correct_accel(data, is_correct):\n",
    "    if is_correct == 1:\n",
    "        return data\n",
    "    data = np.array(data)*2\n",
    "    return data.tolist()\n",
    "udf_correct_accel = F.udf(correct_accel, ArrayType(DoubleType()))\n"
   ]
  },
  {
   "cell_type": "code",
   "execution_count": null,
   "metadata": {},
   "outputs": [],
   "source": []
  }
 ],
 "metadata": {
  "kernelspec": {
   "display_name": "CC3 High Performance",
   "language": "python",
   "name": "cc3_high_performance"
  },
  "language_info": {
   "codemirror_mode": {
    "name": "ipython",
    "version": 3
   },
   "file_extension": ".py",
   "mimetype": "text/x-python",
   "name": "python",
   "nbconvert_exporter": "python",
   "pygments_lexer": "ipython3",
   "version": "3.6.7"
  }
 },
 "nbformat": 4,
 "nbformat_minor": 2
}
